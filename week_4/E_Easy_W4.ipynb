{
 "cells": [
  {
   "cell_type": "markdown",
   "id": "e91fbe69-ee1e-4186-a9f6-2803091bf187",
   "metadata": {
    "tags": []
   },
   "source": [
    "# import packages"
   ]
  },
  {
   "cell_type": "code",
   "execution_count": null,
   "id": "15bb24ee-fe68-4d7d-8456-f7ca49b08a37",
   "metadata": {},
   "outputs": [],
   "source": [
    "# setting base\n",
    "\n",
    "import os\n",
    "\n",
    "import warnings, sys, os ## system\n",
    "if not sys.warnoptions:\n",
    "    warnings.simplefilter(\"ignore\") # ignore warnings\n",
    "    \n",
    "import mne\n",
    "from mne.decoding import (SlidingEstimator, GeneralizingEstimator, Scaler,\n",
    "                          cross_val_multiscore, Vectorizer)\n",
    "\n",
    "import numpy as np\n",
    "import pandas as pd\n",
    "\n",
    "import matplotlib.pyplot as plt\n",
    "\n",
    "from sklearn.pipeline import make_pipeline\n",
    "from sklearn.preprocessing import StandardScaler\n",
    "from sklearn.linear_model import LogisticRegression\n",
    "from sklearn.svm import SVC\n",
    "\n",
    "import scipy.io"
   ]
  },
  {
   "cell_type": "markdown",
   "id": "a77b3a4c-5a98-4852-a193-734f85d864ea",
   "metadata": {
    "tags": []
   },
   "source": [
    "# load files"
   ]
  },
  {
   "cell_type": "markdown",
   "id": "b279dd24-997e-4541-9d5e-233d73b58a09",
   "metadata": {
    "tags": []
   },
   "source": [
    "## load EEG file"
   ]
  },
  {
   "cell_type": "code",
   "execution_count": null,
   "id": "f0952b4d-da87-491a-a282-01883d468070",
   "metadata": {},
   "outputs": [],
   "source": [
    "# load file\n",
    "\n",
    "user_path = os.path.expanduser('~')\n",
    "data_path = os.path.join('_')\n",
    "# remove _, and enter your data path instead\n",
    "# enter the path to data folder not file itself\n",
    "vhdr_path = os.path.join('_')\n",
    "# remove _, and enter your data path instead\n",
    "# the file is named as 'sub-02_decoder-distractor'\n",
    "# include data_path also\n",
    "# !caution! you should load 'vhdr' file\n",
    "\n",
    "raw = mne.io.read_raw_brainvision(vhdr_path,eog=('HEOG','HEOG1','VEOG'))\n",
    "# data used in this project is collected by 'brainvision'"
   ]
  },
  {
   "cell_type": "code",
   "execution_count": null,
   "id": "bf12e135-b38a-4fb7-94a7-25d89814b16c",
   "metadata": {},
   "outputs": [],
   "source": [
    "# apply pass filter\n",
    "\n",
    "raw.load_data().filter(0.5, 40) \n",
    "# import filter (high-pass, low-pass)\n",
    "\n",
    "events = mne._(raw) \n",
    "# remove _, and enter the right function for defining triggers\n",
    "# how can you conduct this step?"
   ]
  },
  {
   "cell_type": "code",
   "execution_count": null,
   "id": "339e22c6-81da-4e2e-bca5-9d85c0b89b11",
   "metadata": {},
   "outputs": [],
   "source": [
    "# define triggers\n",
    "\n",
    "total_target_id = {'first_target_object': 111, 'first_target_scene': 112,\n",
    "                   'second_target_object': 211, 'second_target_scene': 212,\n",
    "                   'first_dummy_dist': 120, 'second_dummy_dist': 220,\n",
    "                   'first_dist_object': 121, 'first_dist_scene': 122,\n",
    "                   'second_dist_object': 221, 'second_dist_scene': 222,\n",
    "                   'cue_object': 31, 'cue_scene': 32,\n",
    "                   'probe_object': 41, 'probe_scene': 42}\n",
    "\n",
    "fir_tar_id = {'first_target_object': 111, 'first_target_scene': 112}\n",
    "sec_tar_id = {'second_target_object': 211, 'second_target_scene': 212}\n",
    "cue_id = {'cue_object': 31, 'cue_scene': 32}"
   ]
  },
  {
   "cell_type": "code",
   "execution_count": null,
   "id": "6d3f0d6f-dc4a-4ee1-b005-fb6d90573ff3",
   "metadata": {},
   "outputs": [],
   "source": [
    "# re-reference signal\n",
    "\n",
    "raw.set_eeg_reference('average', projection=True)\n",
    "raw.plot()"
   ]
  },
  {
   "cell_type": "markdown",
   "id": "4ed650e9-3cbc-4ab6-b32d-40095354e650",
   "metadata": {
    "tags": []
   },
   "source": [
    "## load trial information"
   ]
  },
  {
   "cell_type": "code",
   "execution_count": null,
   "id": "d45c2ffb-55e2-46ef-a620-679934105b23",
   "metadata": {},
   "outputs": [],
   "source": [
    "# load task design\n",
    "\n",
    "nd_dsgn_path = os.path.join('_',\n",
    "                            'sub-02_decode_behavior_without-dist_dsgn.mat')\n",
    "d_dsgn_path = os.path.join('_',\n",
    "                           'sub-02_decode_behavior_with-dist_dsgn.mat')\n",
    "# remove _, and enter your data path\n",
    "# include data_path also\n",
    "\n",
    "nd_dsgn = scipy.io.loadmat(nd_dsgn_path)\n",
    "d_dsgn = scipy.io.loadmat(d_dsgn_path)\n",
    "## design matrix\n",
    "# c0: stimulus sequence - 1:object|scene / 2:scene|obejct\n",
    "# c1: distractor - 1 X | 2 O -> tasktype\n",
    "# c2: target category - 1:object / 2:scene\n",
    "# c3: WM test - 1 same | 2 different\n",
    "\n",
    "print(nd_dsgn)\n",
    "print(d_dsgn)"
   ]
  },
  {
   "cell_type": "code",
   "execution_count": null,
   "id": "80594113-80f6-46f2-b925-fceaf0d0541e",
   "metadata": {},
   "outputs": [],
   "source": [
    "# load behavior data\n",
    "\n",
    "nd_resp_path = os.path.join('_',\n",
    "                            'sub-02_decode_behavior_without-dist_wmr.mat')\n",
    "d_resp_path = os.path.join('_',\n",
    "                           'sub-02_decode_behavior_with-dist_wmr.mat')\n",
    "# remove _, and enter your data path\n",
    "# include data_path also\n",
    "\n",
    "nd_resp = scipy.io.loadmat(nd_resp_path)\n",
    "d_resp = scipy.io.loadmat(d_resp_path)\n",
    "## response matrix\n",
    "# c0: response - 1 same | 2 different\n",
    "# c1: reaction time\n",
    "\n",
    "print(nd_resp)\n",
    "print(d_resp)"
   ]
  },
  {
   "cell_type": "code",
   "execution_count": null,
   "id": "8a04103e-363c-4c01-9522-fbbc5814e92f",
   "metadata": {},
   "outputs": [],
   "source": [
    "# make informations as data frame\n",
    "\n",
    "# integrate experimental data\n",
    "dum_2 = np.zeros((200,1))\n",
    "dum_4 = np.zeros((400,1))\n",
    "\n",
    "tot_nd = np.hstack((nd_dsgn['dsgn'], dum_2, nd_resp['WM_R']))\n",
    "tot_d = np.hstack((d_dsgn['dsgn'], dum_4, d_resp['WM_R']))\n",
    "\n",
    "# organize data frame using pandas\n",
    "idx = ['sequence', 'dist', 'target cat', 'wm_test', 'dum', 'resp', 'RT']\n",
    "\n",
    "tot_nd = pd.DataFrame(tot_nd, columns=idx)\n",
    "tot_d = pd.DataFrame(tot_d, columns=idx)\n",
    "\n",
    "print(tot_nd)\n",
    "print(tot_d)"
   ]
  },
  {
   "cell_type": "markdown",
   "id": "b69e453f-1534-4443-8dfe-2072afb2fa19",
   "metadata": {
    "tags": []
   },
   "source": [
    "# preprocess data"
   ]
  },
  {
   "cell_type": "markdown",
   "id": "59125ca1-79d7-450f-a219-0eea866067f5",
   "metadata": {
    "tags": []
   },
   "source": [
    "## remove blink signal using SSP"
   ]
  },
  {
   "cell_type": "code",
   "execution_count": null,
   "id": "b86392a8-183e-46b9-8326-e62424ca484a",
   "metadata": {},
   "outputs": [],
   "source": [
    "# make SSP projector\n",
    "\n",
    "blink_proj = mne.preprocessing.compute_proj_eog(raw, tmax=4.0, n_mag=0,\n",
    "                                                ch_name=['HEOG','HEOG1','VEOG'])"
   ]
  },
  {
   "cell_type": "code",
   "execution_count": null,
   "id": "b0eeec8a-7061-4786-bc18-570a26d96623",
   "metadata": {},
   "outputs": [],
   "source": [
    "# add SSP projector\n",
    "\n",
    "raw.add_proj(blink_proj[0])"
   ]
  },
  {
   "cell_type": "markdown",
   "id": "f90f866c-80da-4e23-8386-592ce9339b3f",
   "metadata": {},
   "source": [
    "## remove blinked trial by rejecting trials"
   ]
  },
  {
   "cell_type": "markdown",
   "id": "feee5c60-8a52-4c4b-9687-8cf0a0abf24e",
   "metadata": {},
   "source": [
    "### keep the result information in trial information later\n",
    "**include below sentences when you make dataframe** <br>\n",
    "tot_np = np.vstack((ne_np, e_np))<br>\n",
    "rej_t = np.zeros((len(tot_np),1))<br>\n",
    "rej_t[rej_trial] = 1"
   ]
  },
  {
   "cell_type": "code",
   "execution_count": null,
   "id": "ce8861ca-8c3f-4b55-beca-ca5da770c479",
   "metadata": {},
   "outputs": [],
   "source": [
    "# duplicate data\n",
    "rej_trial = raw.copy()\n",
    "\n",
    "# find eye blink\n",
    "eog_events = mne.preprocessing.find_eog_events(rej_trial) \n",
    "\n",
    "# find blink signal\n",
    "onsets = eog_events[:, 0] / rej_trial.info['sfreq'] - 0.25\n",
    "durations = [0.5] * len(eog_events)\n",
    "descriptions = ['bad blink'] * len(eog_events)\n",
    "blink_annot = mne.Annotations(onsets, durations, descriptions,\n",
    "                              orig_time=rej_trial.info['meas_date'])\n",
    "rej_trial.set_annotations(blink_annot)"
   ]
  },
  {
   "cell_type": "code",
   "execution_count": null,
   "id": "7937c782-d88e-4a38-8850-030583166634",
   "metadata": {},
   "outputs": [],
   "source": [
    "# make epochs and check blinked trials\n",
    "\n",
    "# define time interval\n",
    "tmin, tmax = -0.200, 3.600 # cut time-course\n",
    "\n",
    "# make epochs based on the presence of first target\n",
    "temp_epochs = mne.Epochs(rej_trial, events[0], fir_tar_id, tmin, tmax, \n",
    "                         proj=True, picks=ch_name, baseline=(-0.2, 0.0),\n",
    "                         preload=True, reject=None, decim=3, verbose='error')"
   ]
  },
  {
   "cell_type": "code",
   "execution_count": null,
   "id": "1c0f0e0f-abba-4d00-8289-775e17866b2b",
   "metadata": {},
   "outputs": [],
   "source": [
    "# select trials to be removed away\n",
    "\n",
    "Seq = np.array(range(600))\n",
    "rej_trial = np.delete(Seq, temp_epochs.events[:,1])"
   ]
  },
  {
   "cell_type": "markdown",
   "id": "87cb7669-3649-4843-9f89-30579523ff76",
   "metadata": {
    "tags": []
   },
   "source": [
    "## epoching"
   ]
  },
  {
   "cell_type": "code",
   "execution_count": null,
   "id": "f117f526-23ac-4c36-a443-fb2b2dd3394e",
   "metadata": {},
   "outputs": [],
   "source": [
    "# define time interval and channel name\n",
    "\n",
    "tmin, tmax = -0.200, 0.600 # cut time-course\n",
    "ch_name = ['Fz', 'F3', 'F7', 'FC5', 'FC1', 'C3', 'T7', 'CP5', 'CP1',\n",
    "           'Pz', 'P3', 'P7', 'O1', 'Oz', 'O2', 'P4', 'P8', 'CP6',\n",
    "           'CP2', 'Cz', 'C4', 'T8', 'POz', 'FC6', 'FC2', 'F4', 'F8',]"
   ]
  },
  {
   "cell_type": "code",
   "execution_count": null,
   "id": "f1e8d9ca-e279-4768-8c4b-b73f811dbb32",
   "metadata": {},
   "outputs": [],
   "source": [
    "# make target epoch\n",
    "\n",
    "fir_tar_epochs = mne.Epochs(raw, events[0], _, tmin, tmax, \n",
    "                            proj=True, picks=ch_name, baseline=(-0.2, 0.0),\n",
    "                            preload=True, reject=None, decim=3, verbose='error')\n",
    "\n",
    "sec_tar_epochs = mne.Epochs(raw, events[0], _, tmin, tmax,\n",
    "                            proj=True, picks=ch_name, baseline=(-0.2, 0.0),\n",
    "                            preload=True, reject=None, decim=3, verbose='error')\n",
    "# remove _s, and enter right triggers for each epochs"
   ]
  },
  {
   "cell_type": "code",
   "execution_count": null,
   "id": "5cb93f74-3e10-4d65-9c49-0ee1dbb3d672",
   "metadata": {},
   "outputs": [],
   "source": [
    "# make cue epoch\n",
    "\n",
    "cue_epochs = mne.Epochs(raw, events[0], _, tmin, tmax, \n",
    "                        proj=True, picks=ch_name, baseline=(-0.2, 0.0),\n",
    "                        preload=True, reject=None, decim=3, verbose='error')\n",
    "# remove _, and enter right trigger for epochs"
   ]
  },
  {
   "cell_type": "markdown",
   "id": "1f4fda16-e13f-43d5-9d55-9a439b487c65",
   "metadata": {
    "tags": []
   },
   "source": [
    "# define trial infromation"
   ]
  },
  {
   "cell_type": "markdown",
   "id": "8df3c778-426e-4274-ba0b-209494518f76",
   "metadata": {
    "tags": []
   },
   "source": [
    "## define the stimuli condition of trials"
   ]
  },
  {
   "cell_type": "code",
   "execution_count": null,
   "id": "2edc3fdb-acac-49da-8d25-44d96446ce5c",
   "metadata": {},
   "outputs": [],
   "source": [
    "# no-expectation block\n",
    "\n",
    "# the sequence of trials\n",
    "ne_base = np.array(range(len(tot_nd['resp'])))[:,None]\n",
    "\n",
    "# the category of at that sequence\n",
    "# 1: object | 2: scene\n",
    "ne_seq = np.zeros((len(ne_base),2))\n",
    "seq_OS = tot_nd[(tot_nd['sequence'] == 1)].index.values\n",
    "seq_SO = tot_nd[(tot_nd['sequence'] == 2)].index.values\n",
    "ne_seq[seq_OS,:] = [1, 2]\n",
    "ne_seq[seq_SO,:] = [2, 1]\n",
    "\n",
    "# the cued category of that trial\n",
    "# 1: object | 2: scene\n",
    "ne_cue = np.zeros((len(ne_base),1))\n",
    "cue_O = tot_nd[(tot_nd['target cat'] == 1)].index.values\n",
    "cue_S = tot_nd[(tot_nd['target cat'] == 2)].index.values\n",
    "ne_cue[cue_O] = 1\n",
    "ne_cue[cue_S] = 2\n",
    "\n",
    "# the cued sequence of that trial\n",
    "# 1: first | 2: second\n",
    "ne_po = np.zeros((len(ne_base),1))\n",
    "for i in range(len(ne_po)):\n",
    "    if (nd_dsgn['dsgn'][i,0] == 1):\n",
    "        if (nd_dsgn['dsgn'][i,2] == 1):\n",
    "            ne_po[i] = 1\n",
    "        elif (nd_dsgn['dsgn'][i,2] == 2):\n",
    "            ne_po[i] = 2\n",
    "    elif (nd_dsgn['dsgn'][i,0] == 2):\n",
    "        if (nd_dsgn['dsgn'][i,2] == 1):\n",
    "            ne_po[i] = 2\n",
    "        elif (nd_dsgn['dsgn'][i,2] == 2):\n",
    "            ne_po[i] = 1\n",
    "\n",
    "# check whether the subject was right or wrong\n",
    "# 0: wrong ansewer | 1: right ansewer\n",
    "ne_ans = np.zeros((len(ne_base),1))\n",
    "ans_C = tot_nd[(tot_nd['wm_test'] == tot_nd['resp'])].index.values\n",
    "ne_ans[ans_C] = 1\n",
    "\n",
    "# response time of that trial\n",
    "ne_rt = np.array(tot_nd['RT'])[:,None]\n",
    "\n",
    "# check whether there were distractors or not\n",
    "# in not-expectation block, there was no distractor in every trials for sure\n",
    "dum = np.zeros((len(ne_base),1))\n",
    "            \n",
    "# check whether the subject ansewered in that trial\n",
    "# 0: answered | 1: not answered\n",
    "ne_nan = np.zeros((len(ne_base),1))\n",
    "nan_t = tot_nd[np.isnan(tot_nd['resp'])].index.values\n",
    "ne_nan[nan_t] = 1\n",
    "\n",
    "ne_np = np.hstack((ne_base, ne_seq, ne_cue, ne_po, ne_ans, ne_rt, dum, ne_nan))"
   ]
  },
  {
   "cell_type": "code",
   "execution_count": null,
   "id": "4b909d88-ec58-40b0-a063-eae45c64a0a8",
   "metadata": {},
   "outputs": [],
   "source": [
    "# expectation block\n",
    "\n",
    "# the sequence of trials\n",
    "e_base = np.array(range(len(tot_d['resp'])))[:,None] + len(tot_nd['resp'])\n",
    "\n",
    "e_seq = np.zeros((len(e_base),2))\n",
    "seq_OS = tot_d[(tot_d['sequence'] == 1)].index.values\n",
    "seq_SO = tot_d[(tot_d['sequence'] == 2)].index.values\n",
    "e_seq[seq_OS,:] = [1, 2]\n",
    "e_seq[seq_SO,:] = [2, 1]\n",
    "\n",
    "# the category of at that sequence\n",
    "# 1: object | 2: scene\n",
    "e_cue = np.zeros((len(e_base),1))\n",
    "cue_O = tot_d[(tot_d['target cat'] == 1)].index.values\n",
    "cue_S = tot_d[(tot_d['target cat'] == 2)].index.values\n",
    "e_cue[cue_O] = 1\n",
    "e_cue[cue_S] = 2\n",
    "\n",
    "# the cued sequence of that trial\n",
    "# 1: first | 2: second\n",
    "e_po = np.zeros((len(e_base),1))\n",
    "for i in range(len(e_po)):\n",
    "    if (d_dsgn['dsgn'][i,0] == 1):\n",
    "        if (d_dsgn['dsgn'][i,2] == 1):\n",
    "            e_po[i] = 1\n",
    "        elif (d_dsgn['dsgn'][i,2] == 2):\n",
    "            e_po[i] = 2\n",
    "    elif (d_dsgn['dsgn'][i,0] == 2):\n",
    "        if (d_dsgn['dsgn'][i,2] == 1):\n",
    "            e_po[i] = 2\n",
    "        elif (d_dsgn['dsgn'][i,2] == 2):\n",
    "            e_po[i] = 1\n",
    "            \n",
    "# check whether the subject was right or wrong\n",
    "# 0: wrong ansewer | 1: right ansewer\n",
    "e_ans = np.zeros((len(e_base),1))\n",
    "ans_C = tot_d[(tot_d['wm_test'] == tot_d['resp'])].index.values\n",
    "e_ans[ans_C] = 1\n",
    "\n",
    "# response time of that trial\n",
    "e_rt = np.array(tot_d['RT'])[:,None]\n",
    "\n",
    "# check whether there were distractors or not\n",
    "# 1: not-distracted | 2: distracted\n",
    "e_dist = np.zeros((len(e_base),1))\n",
    "nd_pos = tot_d[(tot_d['dist'] == 1)].index.values\n",
    "d_pos = tot_d[(tot_d['dist'] == 2)].index.values\n",
    "e_dist[nd_pos] = 1\n",
    "e_dist[d_pos] = 2\n",
    "\n",
    "# check whether the subject ansewered in that trial\n",
    "# 0: answered | 1: not answered\n",
    "e_nan = np.zeros((len(e_base),1))\n",
    "nan_t = tot_d[np.isnan(tot_d['resp'])].index.values\n",
    "e_nan[nan_t] = 1\n",
    "\n",
    "e_np = np.hstack((e_base, e_seq, e_cue, e_po, e_ans, e_rt, e_dist, e_nan))"
   ]
  },
  {
   "cell_type": "code",
   "execution_count": null,
   "id": "aa2491af-8c5d-4b3c-854e-b72833819787",
   "metadata": {},
   "outputs": [],
   "source": [
    "# integrate all the information into one data frame\n",
    "\n",
    "tot_np = np.vstack((ne_np, e_np))\n",
    "tot_df = pd.DataFrame(tot_np, columns=['posit', 'first_t', 'second_t', 'cue_C', 'cue_S',\n",
    "                                       'corr', 'rt', 'dist', 'nan'])\n",
    "\n",
    "print(tot_df)"
   ]
  },
  {
   "cell_type": "markdown",
   "id": "16ab8613-f2ae-46dd-8ac6-876a29af4ab2",
   "metadata": {
    "tags": []
   },
   "source": [
    "## separate epochs according to conditions"
   ]
  },
  {
   "cell_type": "markdown",
   "id": "01044b41-4637-492e-aab1-38b60ae9b4fe",
   "metadata": {
    "tags": []
   },
   "source": [
    "### basic separation"
   ]
  },
  {
   "cell_type": "code",
   "execution_count": null,
   "id": "f82f229a-019e-4847-b0dd-2b94911476f5",
   "metadata": {},
   "outputs": [],
   "source": [
    "# I will separate epochs according to the condition about distractor\n",
    "\n",
    "# separate according to the expectation about distractor\n",
    "ne_trials = tot_df[(tot_df['posit'] < 200) & (tot_df['nan'] == 0)]['posit']\n",
    "e_trials = tot_df[(tot_df['posit'] > 199) & (tot_df['nan'] == 0)]['posit']\n",
    "\n",
    "# separate according to the presence of distractor\n",
    "e_nd_trials = tot_df[(tot_df['posit'] > 199) & (tot_df['nan'] == 0)\n",
    "                     & (tot_df['dist'] == 1)]['posit']\n",
    "e_d_trials = tot_df[(tot_df['posit'] > 199) & (tot_df['nan'] == 0)\n",
    "                    & (tot_df['dist'] == 2)]['posit']"
   ]
  },
  {
   "cell_type": "code",
   "execution_count": null,
   "id": "d3c5d0d5-32f8-4788-bfa8-627547c439f9",
   "metadata": {},
   "outputs": [],
   "source": [
    "# translate into int array\n",
    "\n",
    "ne_trials = np.array(ne_trials).astype(int)\n",
    "e_trials = np.array(e_trials).astype(int)\n",
    "\n",
    "e_nd_trials = np.array(e_nd_trials).astype(int)\n",
    "e_d_trials = np.array(e_d_trials).astype(int)"
   ]
  },
  {
   "cell_type": "markdown",
   "id": "965f8a0f-c067-4ec6-9e93-afb24813c915",
   "metadata": {
    "tags": []
   },
   "source": [
    "### example separation"
   ]
  },
  {
   "cell_type": "code",
   "execution_count": null,
   "id": "11a84886-9936-42f7-a74d-cade689acd53",
   "metadata": {},
   "outputs": [],
   "source": [
    "# I will separate epochs according to whether the subject answered right or wrong\n",
    "\n",
    "# no-expectation block\n",
    "ne_cor_trials = tot_df[(tot_df['posit'] < 200) & (tot_df['nan'] == 0)\n",
    "                       & (tot_df['corr'] == 1)]['posit']\n",
    "ne_wro_trials = tot_df[(tot_df['posit'] < 200) & (tot_df['nan'] == 0)\n",
    "                       & (tot_df['corr'] == 0)]['posit']\n",
    "\n",
    "# expectatin block (total)\n",
    "e_cor_trials = tot_df[(tot_df['posit'] > 199) & (tot_df['nan'] == 0)\n",
    "                      & (tot_df['corr'] == 1)]['posit']\n",
    "e_wro_trials = tot_df[(tot_df['posit'] > 199) & (tot_df['nan'] == 0)\n",
    "                      & (tot_df['corr'] == 0)]['posit']\n",
    "\n",
    "# expectation block (distractor-absent)\n",
    "e_nd_cor_trials = tot_df[(tot_df['posit'] > 199) & (tot_df['nan'] == 0)\n",
    "                         & (tot_df['dist'] == 1) & (tot_df['corr'] == 1)]['posit']\n",
    "e_nd_wro_trials = tot_df[(tot_df['posit'] > 199) & (tot_df['nan'] == 0)\n",
    "                         & (tot_df['dist'] == 1) & (tot_df['corr'] == 0)]['posit']\n",
    "\n",
    "# expectation block (distractor-present)\n",
    "e_d_cor_trials = tot_df[(tot_df['posit'] > 199) & (tot_df['nan'] == 0)\n",
    "                        & (tot_df['dist'] == 2) & (tot_df['corr'] == 1)]['posit']\n",
    "e_d_wro_trials = tot_df[(tot_df['posit'] > 199) & (tot_df['nan'] == 0)\n",
    "                        & (tot_df['dist'] == 2) & (tot_df['corr'] == 2)]['posit']"
   ]
  },
  {
   "cell_type": "code",
   "execution_count": null,
   "id": "fb80eb1f-3ae4-47cb-ac8b-1fab42f0d3ad",
   "metadata": {},
   "outputs": [],
   "source": [
    "# translate into int array\n",
    "\n",
    "ne_cor_trials = np.array(ne_cor_trials).astype(int)\n",
    "ne_wro_trials = np.array(ne_wro_trials).astype(int)\n",
    "\n",
    "e_cor_trials = np.array(e_cor_trials).astype(int)\n",
    "e_wro_trials = np.array(e_wro_trials).astype(int)\n",
    "\n",
    "e_nd_cor_trials = np.array(e_nd_cor_trials).astype(int)\n",
    "e_nd_wro_trials = np.array(e_nd_wro_trials).astype(int)\n",
    "\n",
    "e_d_cor_trials = np.array(e_d_cor_trials).astype(int)\n",
    "e_d_wro_trials = np.array(e_d_wro_trials).astype(int)"
   ]
  },
  {
   "cell_type": "markdown",
   "id": "f42453ae-b2cb-44f9-95d7-36bb6f4b85fe",
   "metadata": {
    "tags": []
   },
   "source": [
    "### make your own condition separation"
   ]
  },
  {
   "cell_type": "code",
   "execution_count": null,
   "id": "ac1d964d-2f63-47ff-8f21-848127c18a1c",
   "metadata": {},
   "outputs": [],
   "source": [
    "# I will separate epochs according to -\n",
    "\n",
    "# no-expectation block\n",
    "\n",
    "\n",
    "# expectatin block (total)\n",
    "\n",
    "\n",
    "# expectation block (distractor-absent)\n",
    "\n",
    "\n",
    "# expectation block (distractor-present)\n"
   ]
  },
  {
   "cell_type": "code",
   "execution_count": null,
   "id": "983b06f6-70c3-4bcf-b549-8ed10b8c9e06",
   "metadata": {},
   "outputs": [],
   "source": [
    "# translate into int array\n",
    "\n"
   ]
  },
  {
   "cell_type": "markdown",
   "id": "ffbfe698-76c6-423d-84ed-19f8822ceaa2",
   "metadata": {
    "tags": []
   },
   "source": [
    "### separate epochs according to condition (basic separation)"
   ]
  },
  {
   "cell_type": "code",
   "execution_count": null,
   "id": "ce3eeaae-d769-4d48-9eb8-a307249dd57d",
   "metadata": {},
   "outputs": [],
   "source": [
    "# separate epochs according to expectation and distraction\n",
    "\n",
    "# no-expectation\n",
    "NE_FT_trial = fir_tar_epochs[ne_trials]\n",
    "NE_ST_trial = sec_tar_epochs[ne_trials]\n",
    "NE_C_trial = cue_epochs[ne_trials]\n",
    "\n",
    "# expectation\n",
    "E_FT_trial = fir_tar_epochs[e_trials]\n",
    "E_ST_trial = sec_tar_epochs[e_trials]\n",
    "E_C_trial = cue_epochs[e_trials]\n",
    "\n",
    "# distractor-absent\n",
    "E_ND_FT_trial = fir_tar_epochs[e_nd_trials]\n",
    "E_ND_ST_trial = sec_tar_epochs[e_nd_trials]\n",
    "E_ND_C_trial = cue_epochs[e_nd_trials]\n",
    "\n",
    "# distractor-present\n",
    "E_D_FT_trial = fir_tar_epochs[e_d_trials]\n",
    "E_D_ST_trial = sec_tar_epochs[e_d_trials]\n",
    "E_D_C_trial = cue_epochs[e_d_trials]"
   ]
  },
  {
   "cell_type": "markdown",
   "id": "fba234e2-669d-438e-a35f-4a1282cbefef",
   "metadata": {},
   "source": [
    "# conduct decoding"
   ]
  },
  {
   "cell_type": "markdown",
   "id": "b83c7ff4-318b-4d9f-b5f4-d4201b2702ff",
   "metadata": {
    "tags": []
   },
   "source": [
    "## organize data"
   ]
  },
  {
   "cell_type": "markdown",
   "id": "7f8ed672-3362-4f98-a8b6-8b8d41530921",
   "metadata": {
    "tags": []
   },
   "source": [
    "### no-expectation block"
   ]
  },
  {
   "cell_type": "code",
   "execution_count": null,
   "id": "9ab0bbad-ba16-4200-97dc-feef154c492c",
   "metadata": {},
   "outputs": [],
   "source": [
    "# no-expectation + first target\n",
    "\n",
    "ne_FT_X = NE_FT_trial.get_data()  # n_epochs, n_eeg_channels, n_times\n",
    "ne_FT_y = tot_df.iloc[ne_trials]['first_t']  # target event"
   ]
  },
  {
   "cell_type": "code",
   "execution_count": null,
   "id": "3d010bff-fd3c-4630-a747-28d1529e9875",
   "metadata": {},
   "outputs": [],
   "source": [
    "# no-expectation + first target\n",
    "\n",
    "ne_ST_X = NE_ST_trial.get_data()  # n_epochs, n_eeg_channels, n_times\n",
    "ne_ST_y = tot_df.iloc[ne_trials]['second_t']  # target event"
   ]
  },
  {
   "cell_type": "code",
   "execution_count": null,
   "id": "66e9c4a3-9ee9-40ed-9f34-fa8c7dcfee07",
   "metadata": {},
   "outputs": [],
   "source": [
    "# no-expectation + first target\n",
    "\n",
    "ne_C_X = NE_C_trial.get_data()  # n_epochs, n_eeg_channels, n_times\n",
    "ne_C_y = tot_df.iloc[ne_trials]['cue_C']  # target event"
   ]
  },
  {
   "cell_type": "markdown",
   "id": "939bb39b-6599-4db8-8ae2-e5677aa7c577",
   "metadata": {
    "tags": []
   },
   "source": [
    "### expectation block"
   ]
  },
  {
   "cell_type": "code",
   "execution_count": null,
   "id": "a46677d4-8768-430d-b3c3-689185140049",
   "metadata": {},
   "outputs": [],
   "source": [
    "# no-expectation + first target\n",
    "\n",
    "e_FT_X = E_FT_trial.get_data()  # n_epochs, n_eeg_channels, n_times\n",
    "e_FT_y = tot_df.iloc[e_trials]['first_t']  # target event"
   ]
  },
  {
   "cell_type": "code",
   "execution_count": null,
   "id": "7c96eaf2-13d9-4d7b-a01f-8ba9a6007a64",
   "metadata": {},
   "outputs": [],
   "source": [
    "# no-expectation + first target\n",
    "\n",
    "e_ST_X = E_ST_trial.get_data()  # n_epochs, n_eeg_channels, n_times\n",
    "e_ST_y = tot_df.iloc[e_trials]['second_t']  # target event"
   ]
  },
  {
   "cell_type": "code",
   "execution_count": null,
   "id": "31a217ce-16c9-46cb-90df-18acc19fa658",
   "metadata": {},
   "outputs": [],
   "source": [
    "# no-expectation + first target\n",
    "\n",
    "e_C_X = E_C_trial.get_data()  # n_epochs, n_eeg_channels, n_times\n",
    "e_C_y = tot_df.iloc[e_trials]['cue_C']  # target event"
   ]
  },
  {
   "cell_type": "markdown",
   "id": "ddec78d8-845f-4831-86f5-2ce48b176a93",
   "metadata": {
    "tags": []
   },
   "source": [
    "### expectation block + distractor absent"
   ]
  },
  {
   "cell_type": "code",
   "execution_count": null,
   "id": "74704692-f4e7-4a05-adef-974d697b4f3f",
   "metadata": {},
   "outputs": [],
   "source": [
    "# no-expectation + first target\n",
    "\n",
    "e_nd_FT_X = E_ND_FT_trial.get_data()  # n_epochs, n_eeg_channels, n_times\n",
    "e_nd_FT_y = tot_df.iloc[e_nd_trials]['first_t']  # target event"
   ]
  },
  {
   "cell_type": "code",
   "execution_count": null,
   "id": "14fdda32-db34-4344-b0ba-697c0062d4b6",
   "metadata": {},
   "outputs": [],
   "source": [
    "# no-expectation + first target\n",
    "\n",
    "e_nd_ST_X = E_ND_ST_trial.get_data()  # n_epochs, n_eeg_channels, n_times\n",
    "e_nd_ST_y = tot_df.iloc[e_nd_trials]['second_t']  # target event"
   ]
  },
  {
   "cell_type": "code",
   "execution_count": null,
   "id": "622ca58e-2efe-4506-9d38-657d7da12848",
   "metadata": {},
   "outputs": [],
   "source": [
    "# no-expectation + first target\n",
    "\n",
    "e_nd_C_X = E_ND_C_trial.get_data()  # n_epochs, n_eeg_channels, n_times\n",
    "e_nd_C_y = tot_df.iloc[e_nd_trials]['cue_C']  # target event"
   ]
  },
  {
   "cell_type": "markdown",
   "id": "5c01021c-2618-4643-9a98-a6d7d0ae63d9",
   "metadata": {
    "tags": []
   },
   "source": [
    "### expectation block + distractor present"
   ]
  },
  {
   "cell_type": "code",
   "execution_count": null,
   "id": "25c34ab9-8b70-4c43-8499-b36cd9a89f8d",
   "metadata": {},
   "outputs": [],
   "source": [
    "# no-expectation + first target\n",
    "\n",
    "e_d_FT_X = E_D_FT_trial.get_data()  # n_epochs, n_eeg_channels, n_times\n",
    "e_d_FT_y = tot_df.iloc[e_d_trials]['first_t']  # target event"
   ]
  },
  {
   "cell_type": "code",
   "execution_count": null,
   "id": "c09e6204-4617-4adf-847f-b79ed8ea01d1",
   "metadata": {},
   "outputs": [],
   "source": [
    "# no-expectation + first target\n",
    "\n",
    "e_d_ST_X = E_D_ST_trial.get_data()  # n_epochs, n_eeg_channels, n_times\n",
    "e_d_ST_y = tot_df.iloc[e_d_trials]['second_t']  # target event"
   ]
  },
  {
   "cell_type": "code",
   "execution_count": null,
   "id": "9bf34d15-85ee-4d68-a1a2-8e9da63d2488",
   "metadata": {},
   "outputs": [],
   "source": [
    "# no-expectation + first target\n",
    "\n",
    "e_d_C_X = E_D_C_trial.get_data()  # n_epochs, n_eeg_channels, n_times\n",
    "e_d_C_y = tot_df.iloc[e_d_trials]['cue_C']  # target event"
   ]
  },
  {
   "cell_type": "markdown",
   "id": "4829b72c-ec58-434f-a2fb-a49708bb35d2",
   "metadata": {
    "tags": []
   },
   "source": [
    "## cross-validation (temporal specific)"
   ]
  },
  {
   "cell_type": "markdown",
   "id": "0a8f1f3e-9f07-47bd-9f5f-07cc18c71396",
   "metadata": {
    "tags": []
   },
   "source": [
    "### no-expectation block"
   ]
  },
  {
   "cell_type": "code",
   "execution_count": null,
   "id": "e7e25c39-8bc0-4b3b-a52f-cdc5f4574771",
   "metadata": {},
   "outputs": [],
   "source": [
    "# train classifier on first target in no-expectation block\n",
    "\n",
    "# make pipeline\n",
    "clf_pipe = make_pipeline(Scaler(NE_FT_trial.info), Vectorizer(),\n",
    "                         LogisticRegression(solver='liblinear'))\n",
    "\n",
    "# organize decoder\n",
    "time_decod = SlidingEstimator(clf_pipe, n_jobs=None, scoring='roc_auc', verbose=True)\n",
    "\n",
    "# conduct cross validation\n",
    "ne_FT_scores = cross_val_multiscore(time_decod, ne_FT_X, ne_FT_y, cv=None, n_jobs=None)\n",
    "\n",
    "# mean scores of decoding according to time point\n",
    "ne_FT_score = np.mean(ne_FT_scores, axis=0)"
   ]
  },
  {
   "cell_type": "code",
   "execution_count": null,
   "id": "82b413bc-a130-44f9-98b4-1c05508e3541",
   "metadata": {},
   "outputs": [],
   "source": [
    "# Plot the performance of decoder\n",
    "\n",
    "fig, ax = plt.subplots()\n",
    "ax.plot(NE_FT_trial.times, ne_FT_score, label='score')\n",
    "ax.axhline(.5, color='k', linestyle='--', label='chance')\n",
    "ax.set_xlabel('Times')\n",
    "ax.set_ylabel('AUC')  # Area Under the Curve\n",
    "ax.legend()\n",
    "ax.axvline(.0, color='k', linestyle='-')\n",
    "ax.set_title('decoding performance : no-expectation block + first target')"
   ]
  },
  {
   "cell_type": "code",
   "execution_count": null,
   "id": "b8b173f3-ea41-49fe-8fc3-2c1f2dc25bfe",
   "metadata": {},
   "outputs": [],
   "source": [
    "# train classifier on second target in no-expectation block\n",
    "\n",
    "# make pipeline\n",
    "clf_pipe = make_pipeline(Scaler(NE_ST_trial.info), Vectorizer(),\n",
    "                         LogisticRegression(solver='liblinear'))\n",
    "\n",
    "# organize decoder\n",
    "time_decod = SlidingEstimator(clf_pipe, n_jobs=None, scoring='roc_auc', verbose=True)\n",
    "\n",
    "# conduct cross validation\n",
    "ne_ST_scores = cross_val_multiscore(time_decod, ne_ST_X, ne_ST_y, cv=None, n_jobs=None)\n",
    "\n",
    "# mean scores of decoding according to time point\n",
    "ne_ST_score = np.mean(ne_ST_scores, axis=0)"
   ]
  },
  {
   "cell_type": "code",
   "execution_count": null,
   "id": "9c8e9d40-7d57-41f9-8b26-ad7976a9743c",
   "metadata": {},
   "outputs": [],
   "source": [
    "# Plot the performance of decoder\n",
    "\n",
    "fig, ax = plt.subplots()\n",
    "ax.plot(NE_ST_trial.times, ne_ST_score, label='score')\n",
    "ax.axhline(.5, color='k', linestyle='--', label='chance')\n",
    "ax.set_xlabel('Times')\n",
    "ax.set_ylabel('AUC')  # Area Under the Curve\n",
    "ax.legend()\n",
    "ax.axvline(.0, color='k', linestyle='-')\n",
    "ax.set_title('decoding performance : no-expectation block + second target')"
   ]
  },
  {
   "cell_type": "code",
   "execution_count": null,
   "id": "e7edac1f-8907-4845-8430-591bbec91c6b",
   "metadata": {},
   "outputs": [],
   "source": [
    "# train classifier on cue in no-expectation block\n",
    "\n",
    "# make pipeline\n",
    "clf_pipe = make_pipeline(Scaler(NE_C_trial.info), Vectorizer(),\n",
    "                         LogisticRegression(solver='liblinear'))\n",
    "\n",
    "# organize decoder\n",
    "time_decod = SlidingEstimator(clf_pipe, n_jobs=None, scoring='roc_auc', verbose=True)\n",
    "\n",
    "# conduct cross validation\n",
    "ne_C_scores = cross_val_multiscore(time_decod, ne_C_X, ne_C_y, cv=None, n_jobs=None)\n",
    "\n",
    "# mean scores of decoding according to time point\n",
    "ne_C_score = np.mean(ne_C_scores, axis=0)"
   ]
  },
  {
   "cell_type": "code",
   "execution_count": null,
   "id": "12e920e6-18d0-402c-bc7d-21b7fcbc5e10",
   "metadata": {},
   "outputs": [],
   "source": [
    "# Plot the performance of decoder\n",
    "\n",
    "fig, ax = plt.subplots()\n",
    "ax.plot(NE_C_trial.times, ne_C_score, label='score')\n",
    "ax.axhline(.5, color='k', linestyle='--', label='chance')\n",
    "ax.set_xlabel('Times')\n",
    "ax.set_ylabel('AUC')  # Area Under the Curve\n",
    "ax.legend()\n",
    "ax.axvline(.0, color='k', linestyle='-')\n",
    "ax.set_title('decoding performance : no-expectation block + cue')"
   ]
  },
  {
   "cell_type": "markdown",
   "id": "db30e963-4869-466e-92b9-090c1616d811",
   "metadata": {
    "tags": []
   },
   "source": [
    "### expectation block"
   ]
  },
  {
   "cell_type": "code",
   "execution_count": null,
   "id": "557189de-b613-4676-868a-72583fc4f25f",
   "metadata": {},
   "outputs": [],
   "source": [
    "# train classifier on first target in expectation block\n",
    "\n",
    "# make pipeline\n",
    "clf_pipe = make_pipeline(Scaler(E_FT_trial.info), Vectorizer(),\n",
    "                         LogisticRegression(solver='liblinear'))\n",
    "\n",
    "# organize decoder\n",
    "time_decod = SlidingEstimator(clf_pipe, n_jobs=None, scoring='roc_auc', verbose=True)\n",
    "\n",
    "# conduct cross validation\n",
    "e_FT_scores = cross_val_multiscore(time_decod, _, _, cv=None, n_jobs=None)\n",
    "# remove _, and enter correct variable name\n",
    "\n",
    "# mean scores of decoding according to time point\n",
    "e_FT_score = np.mean(e_FT_scores, axis=0)"
   ]
  },
  {
   "cell_type": "code",
   "execution_count": null,
   "id": "71383427-d1cc-4d39-8b8c-b77ff6862182",
   "metadata": {},
   "outputs": [],
   "source": [
    "# Plot the performance of decoder\n",
    "\n",
    "fig, ax = plt.subplots()\n",
    "ax.plot(E_FT_trial.times, e_FT_score, label='score')\n",
    "ax.axhline(.5, color='k', linestyle='--', label='chance')\n",
    "ax.set_xlabel('Times')\n",
    "ax.set_ylabel('AUC')  # Area Under the Curve\n",
    "ax.legend()\n",
    "ax.axvline(.0, color='k', linestyle='-')\n",
    "ax.set_title('decoding performance : expectation block + first target')"
   ]
  },
  {
   "cell_type": "code",
   "execution_count": null,
   "id": "4940868d-afcd-42a8-af83-3a9c422043bf",
   "metadata": {},
   "outputs": [],
   "source": [
    "# train classifier on second target in expectation block\n",
    "\n",
    "# make pipeline\n",
    "clf_pipe = make_pipeline(Scaler(E_ST_trial.info), Vectorizer(),\n",
    "                         LogisticRegression(solver='liblinear'))\n",
    "\n",
    "# organize decoder\n",
    "time_decod = SlidingEstimator(clf_pipe, n_jobs=None, scoring='roc_auc', verbose=True)\n",
    "\n",
    "# conduct cross validation\n",
    "e_ST_scores = cross_val_multiscore(time_decod, _, _, cv=None, n_jobs=None)\n",
    "# remove _, and enter correct variable name\n",
    "\n",
    "# mean scores of decoding according to time point\n",
    "e_ST_score = np.mean(e_ST_scores, axis=0)"
   ]
  },
  {
   "cell_type": "code",
   "execution_count": null,
   "id": "41535b60-dc10-44ab-b207-641bbaf32e44",
   "metadata": {},
   "outputs": [],
   "source": [
    "# Plot the performance of decoder\n",
    "\n",
    "fig, ax = plt.subplots()\n",
    "ax.plot(E_ST_trial.times, e_ST_score, label='score')\n",
    "ax.axhline(.5, color='k', linestyle='--', label='chance')\n",
    "ax.set_xlabel('Times')\n",
    "ax.set_ylabel('AUC')  # Area Under the Curve\n",
    "ax.legend()\n",
    "ax.axvline(.0, color='k', linestyle='-')\n",
    "ax.set_title('decoding performance : expectation block + second target')"
   ]
  },
  {
   "cell_type": "code",
   "execution_count": null,
   "id": "9fb40b12-6c05-4d1b-a705-e57f35fc2611",
   "metadata": {},
   "outputs": [],
   "source": [
    "# train classifier on cue in expectation block\n",
    "\n",
    "# make pipeline\n",
    "clf_pipe = make_pipeline(Scaler(E_C_trial.info), Vectorizer(),\n",
    "                         LogisticRegression(solver='liblinear'))\n",
    "\n",
    "# organize decoder\n",
    "time_decod = SlidingEstimator(clf_pipe, n_jobs=None, scoring='roc_auc', verbose=True)\n",
    "\n",
    "# conduct cross validation\n",
    "e_C_scores = cross_val_multiscore(time_decod, _, _, cv=None, n_jobs=None)\n",
    "# remove _, and enter correct variable name\n",
    "\n",
    "# mean scores of decoding according to time point\n",
    "e_C_score = np.mean(e_C_scores, axis=0)"
   ]
  },
  {
   "cell_type": "code",
   "execution_count": null,
   "id": "d413dfa9-a5f3-4556-9b35-df9a01eea3d6",
   "metadata": {},
   "outputs": [],
   "source": [
    "# Plot the performance of decoder\n",
    "\n",
    "fig, ax = plt.subplots()\n",
    "ax.plot(E_C_trial.times, e_C_score, label='score')\n",
    "ax.axhline(.5, color='k', linestyle='--', label='chance')\n",
    "ax.set_xlabel('Times')\n",
    "ax.set_ylabel('AUC')  # Area Under the Curve\n",
    "ax.legend()\n",
    "ax.axvline(.0, color='k', linestyle='-')\n",
    "ax.set_title('decoding performance : expectation block + cue')"
   ]
  },
  {
   "cell_type": "markdown",
   "id": "3d8da50e-244c-4bff-838d-ca20295ceb51",
   "metadata": {
    "tags": []
   },
   "source": [
    "### expectation block + distractor-absent"
   ]
  },
  {
   "cell_type": "code",
   "execution_count": null,
   "id": "3c6fb6df-8871-4256-835f-5144421b738d",
   "metadata": {},
   "outputs": [],
   "source": [
    "# train classifier on first target in distractor-absent trials\n",
    "\n",
    "# make pipeline\n",
    "clf_pipe = make_pipeline(Scaler(E_ND_FT_trial.info), Vectorizer(),\n",
    "                         LogisticRegression(solver='liblinear'))\n",
    "\n",
    "# organize decoder\n",
    "time_decod = SlidingEstimator(clf_pipe, n_jobs=None, scoring='roc_auc', verbose=True)\n",
    "\n",
    "# conduct cross validation\n",
    "e_nd_FT_scores = cross_val_multiscore(time_decod, _, _, cv=None, n_jobs=None)\n",
    "# remove _, and enter correct variable name\n",
    "\n",
    "# mean scores of decoding according to time point\n",
    "e_nd_FT_score = np.mean(e_nd_FT_scores, axis=0)"
   ]
  },
  {
   "cell_type": "code",
   "execution_count": null,
   "id": "b03f5798-543b-4c21-b4ae-69244f196c33",
   "metadata": {},
   "outputs": [],
   "source": [
    "# Plot the performance of decoder\n",
    "\n",
    "fig, ax = plt.subplots()\n",
    "ax.plot(E_ND_FT_trial.times, e_nd_FT_score, label='score')\n",
    "ax.axhline(.5, color='k', linestyle='--', label='chance')\n",
    "ax.set_xlabel('Times')\n",
    "ax.set_ylabel('AUC')  # Area Under the Curve\n",
    "ax.legend()\n",
    "ax.axvline(.0, color='k', linestyle='-')\n",
    "ax.set_title('decoding performance : distractor-absent trial + first target')"
   ]
  },
  {
   "cell_type": "code",
   "execution_count": null,
   "id": "4109e697-be69-4807-ba9a-8860239bff2e",
   "metadata": {},
   "outputs": [],
   "source": [
    "# train classifier on second target in distractor-absent trials\n",
    "\n",
    "# make pipeline\n",
    "clf_pipe = make_pipeline(Scaler(E_ND_ST_trial.info), Vectorizer(),\n",
    "                         LogisticRegression(solver='liblinear'))\n",
    "\n",
    "# organize decoder\n",
    "time_decod = SlidingEstimator(clf_pipe, n_jobs=None, scoring='roc_auc', verbose=True)\n",
    "\n",
    "# conduct cross validation\n",
    "e_nd_ST_scores = cross_val_multiscore(time_decod, _, _, cv=None, n_jobs=None)\n",
    "# remove _, and enter correct variable name\n",
    "\n",
    "# mean scores of decoding according to time point\n",
    "e_nd_ST_score = np.mean(e_nd_ST_scores, axis=0)"
   ]
  },
  {
   "cell_type": "code",
   "execution_count": null,
   "id": "7d31f392-3699-40ea-b148-37c286f7182b",
   "metadata": {},
   "outputs": [],
   "source": [
    "# Plot the performance of decoder\n",
    "\n",
    "fig, ax = plt.subplots()\n",
    "ax.plot(E_ND_ST_trial.times, e_nd_ST_score, label='score')\n",
    "ax.axhline(.5, color='k', linestyle='--', label='chance')\n",
    "ax.set_xlabel('Times')\n",
    "ax.set_ylabel('AUC')  # Area Under the Curve\n",
    "ax.legend()\n",
    "ax.axvline(.0, color='k', linestyle='-')\n",
    "ax.set_title('decoding performance : distractor-absent trial + second target')"
   ]
  },
  {
   "cell_type": "code",
   "execution_count": null,
   "id": "82555cf5-38d1-40ef-a1f3-071aa587d699",
   "metadata": {},
   "outputs": [],
   "source": [
    "# train classifier on cue in distractor-absent trials\n",
    "\n",
    "# make pipeline\n",
    "clf_pipe = make_pipeline(Scaler(E_ND_C_trial.info), Vectorizer(),\n",
    "                         LogisticRegression(solver='liblinear'))\n",
    "\n",
    "# organize decoder\n",
    "time_decod = SlidingEstimator(clf_pipe, n_jobs=None, scoring='roc_auc', verbose=True)\n",
    "\n",
    "# conduct cross validation\n",
    "e_nd_C_scores = cross_val_multiscore(time_decod, _, _, cv=None, n_jobs=None)\n",
    "# remove _, and enter correct variable name\n",
    "\n",
    "# mean scores of decoding according to time point\n",
    "e_nd_C_score = np.mean(e_nd_C_scores, axis=0)"
   ]
  },
  {
   "cell_type": "code",
   "execution_count": null,
   "id": "c32ee255-3b4b-430f-8581-3345678d60f1",
   "metadata": {},
   "outputs": [],
   "source": [
    "# Plot the performance of decoder\n",
    "\n",
    "fig, ax = plt.subplots()\n",
    "ax.plot(E_ND_C_trial.times, e_nd_C_score, label='score')\n",
    "ax.axhline(.5, color='k', linestyle='--', label='chance')\n",
    "ax.set_xlabel('Times')\n",
    "ax.set_ylabel('AUC')  # Area Under the Curve\n",
    "ax.legend()\n",
    "ax.axvline(.0, color='k', linestyle='-')\n",
    "ax.set_title('decoding performance : distractor-absent trial + cue')"
   ]
  },
  {
   "cell_type": "markdown",
   "id": "3b0b115c-c882-4a50-ac44-dba5ceb52879",
   "metadata": {
    "tags": []
   },
   "source": [
    "### expectation block + distractor-present"
   ]
  },
  {
   "cell_type": "code",
   "execution_count": null,
   "id": "d2e044a6-f6c4-4a6f-9448-a0fec8a1989c",
   "metadata": {},
   "outputs": [],
   "source": [
    "# train classifier on first target in distractor-present trials\n",
    "\n",
    "# make pipeline\n",
    "clf_pipe = make_pipeline(Scaler(E_D_FT_trial.info), Vectorizer(),\n",
    "                         LogisticRegression(solver='liblinear'))\n",
    "\n",
    "# organize decoder\n",
    "time_decod = SlidingEstimator(clf_pipe, n_jobs=None, scoring='roc_auc', verbose=True)\n",
    "\n",
    "# conduct cross validation\n",
    "e_d_FT_scores = cross_val_multiscore(time_decod, _, _, cv=None, n_jobs=None)\n",
    "# remove _, and enter correct variable name\n",
    "\n",
    "# mean scores of decoding according to time point\n",
    "e_d_FT_score = np.mean(e_d_FT_scores, axis=0)"
   ]
  },
  {
   "cell_type": "code",
   "execution_count": null,
   "id": "945ef688-d1b7-4a4f-b843-548470b545b0",
   "metadata": {},
   "outputs": [],
   "source": [
    "# Plot the performance of decoder\n",
    "\n",
    "fig, ax = plt.subplots()\n",
    "ax.plot(E_D_FT_trial.times, e_d_FT_score, label='score')\n",
    "ax.axhline(.5, color='k', linestyle='--', label='chance')\n",
    "ax.set_xlabel('Times')\n",
    "ax.set_ylabel('AUC')  # Area Under the Curve\n",
    "ax.legend()\n",
    "ax.axvline(.0, color='k', linestyle='-')\n",
    "ax.set_title('decoding performance : distractor-present trial + first target')"
   ]
  },
  {
   "cell_type": "code",
   "execution_count": null,
   "id": "6cc63151-a35d-4a51-a94d-aab29add5943",
   "metadata": {},
   "outputs": [],
   "source": [
    "# train classifier on second target in distractor-present trials\n",
    "\n",
    "# make pipeline\n",
    "clf_pipe = make_pipeline(Scaler(E_D_ST_trial.info), Vectorizer(),\n",
    "                         LogisticRegression(solver='liblinear'))\n",
    "\n",
    "# organize decoder\n",
    "time_decod = SlidingEstimator(clf_pipe, n_jobs=None, scoring='roc_auc', verbose=True)\n",
    "\n",
    "# conduct cross validation\n",
    "e_d_ST_scores = cross_val_multiscore(time_decod, _, _, cv=None, n_jobs=None)\n",
    "# remove _, and enter correct variable name\n",
    "\n",
    "# mean scores of decoding according to time point\n",
    "e_d_ST_score = np.mean(e_d_ST_scores, axis=0)"
   ]
  },
  {
   "cell_type": "code",
   "execution_count": null,
   "id": "b42abdef-bb52-4c1d-93e5-9998071e3079",
   "metadata": {},
   "outputs": [],
   "source": [
    "# Plot the performance of decoder\n",
    "\n",
    "fig, ax = plt.subplots()\n",
    "ax.plot(E_D_ST_trial.times, e_d_ST_score, label='score')\n",
    "ax.axhline(.5, color='k', linestyle='--', label='chance')\n",
    "ax.set_xlabel('Times')\n",
    "ax.set_ylabel('AUC')  # Area Under the Curve\n",
    "ax.legend()\n",
    "ax.axvline(.0, color='k', linestyle='-')\n",
    "ax.set_title('decoding performance : distractor-present trial + second target')"
   ]
  },
  {
   "cell_type": "code",
   "execution_count": null,
   "id": "e35b9fb8-060c-4bef-bb84-5c407630b4f6",
   "metadata": {},
   "outputs": [],
   "source": [
    "# train classifier on cue in distractor-present trials\n",
    "\n",
    "# make pipeline\n",
    "clf_pipe = make_pipeline(Scaler(E_D_C_trial.info), Vectorizer(),\n",
    "                         LogisticRegression(solver='liblinear'))\n",
    "\n",
    "# organize decoder\n",
    "time_decod = SlidingEstimator(clf_pipe, n_jobs=None, scoring='roc_auc', verbose=True)\n",
    "\n",
    "# conduct cross validation\n",
    "e_d_C_scores = cross_val_multiscore(time_decod, _, _, cv=None, n_jobs=None)\n",
    "# remove _, and enter correct variable name\n",
    "\n",
    "# mean scores of decoding according to time point\n",
    "e_d_C_score = np.mean(e_d_C_scores, axis=0)"
   ]
  },
  {
   "cell_type": "code",
   "execution_count": null,
   "id": "49da5bd9-d653-4a92-89e4-daa0605dc7fd",
   "metadata": {},
   "outputs": [],
   "source": [
    "# Plot the performance of decoder\n",
    "\n",
    "fig, ax = plt.subplots()\n",
    "ax.plot(E_D_C_trial.times, e_d_C_score, label='score')\n",
    "ax.axhline(.5, color='k', linestyle='--', label='chance')\n",
    "ax.set_xlabel('Times')\n",
    "ax.set_ylabel('AUC')  # Area Under the Curve\n",
    "ax.legend()\n",
    "ax.axvline(.0, color='k', linestyle='-')\n",
    "ax.set_title('decoding performance : distractor-present trial + cue')"
   ]
  },
  {
   "cell_type": "markdown",
   "id": "807f7f4b-9cef-4f83-928e-8a4fe5fc0fc4",
   "metadata": {
    "tags": []
   },
   "source": [
    "## cross-validation (temporal generalization)"
   ]
  },
  {
   "cell_type": "markdown",
   "id": "f8bbfd59-1a9f-440b-bb81-d140d85d71af",
   "metadata": {
    "tags": []
   },
   "source": [
    "### no-expectation block"
   ]
  },
  {
   "cell_type": "code",
   "execution_count": null,
   "id": "8002a562-0a9b-4d01-ae7f-417ff7230368",
   "metadata": {},
   "outputs": [],
   "source": [
    "# train classifier on first target in no-expectation block\n",
    "\n",
    "# make pipeline\n",
    "clf_pipe = make_pipeline(Scaler(NE_FT_trial.info), Vectorizer(),\n",
    "                         LogisticRegression(solver='liblinear'))\n",
    "\n",
    "# define the temporal generalization object\n",
    "time_gen = GeneralizingEstimator(clf_pipe, n_jobs=None, scoring='roc_auc', verbose=True)\n",
    "\n",
    "# conduct cross validation\n",
    "ne_FT_tgs = cross_val_multiscore(time_gen, ne_FT_X, ne_FT_y, cv=None, n_jobs=5)\n",
    "\n",
    "# mean scores of decoding according to time point\n",
    "ne_FT_tg = np.mean(ne_FT_tgs, axis=0)"
   ]
  },
  {
   "cell_type": "code",
   "execution_count": null,
   "id": "7fbc901c-c51b-4c6b-a073-11117e1865e1",
   "metadata": {},
   "outputs": [],
   "source": [
    "# plot data on 2-d space using same data with upper block\n",
    "\n",
    "fig, ax = plt.subplots()\n",
    "im = ax.imshow(ne_FT_tg, interpolation='lanczos', origin='lower',\n",
    "               cmap='RdBu_r', extent=NE_FT_trial.times[[0, -1, 0, -1]],\n",
    "               vmin=0., vmax=1.)\n",
    "ax.set_xlabel('Testing Time (s)')\n",
    "ax.set_ylabel('Training Time (s)')\n",
    "ax.set_title('decoding performance : no-expectation block + first target')\n",
    "ax.axvline(0, color='k')\n",
    "ax.axhline(0, color='k')\n",
    "cbar = plt.colorbar(im, ax=ax)\n",
    "cbar.set_label('AUC')"
   ]
  },
  {
   "cell_type": "code",
   "execution_count": null,
   "id": "e6c64268-741e-4498-aa3d-8945f838dab1",
   "metadata": {},
   "outputs": [],
   "source": [
    "# train classifier on first target in no-expectation block\n",
    "\n",
    "# make pipeline\n",
    "clf_pipe = make_pipeline(Scaler(NE_ST_trial.info), Vectorizer(),\n",
    "                         LogisticRegression(solver='liblinear'))\n",
    "\n",
    "# define the temporal generalization object\n",
    "time_gen = GeneralizingEstimator(clf_pipe, n_jobs=None, scoring='roc_auc', verbose=True)\n",
    "\n",
    "# conduct cross validation\n",
    "ne_ST_tgs = cross_val_multiscore(time_gen, ne_ST_X, ne_ST_y, cv=None, n_jobs=5)\n",
    "\n",
    "# mean scores of decoding according to time point\n",
    "ne_ST_tg = np.mean(ne_ST_tgs, axis=0)"
   ]
  },
  {
   "cell_type": "code",
   "execution_count": null,
   "id": "e98bc510-71ee-42ba-9091-ded84d94988f",
   "metadata": {},
   "outputs": [],
   "source": [
    "# plot data on 2-d space using same data with upper block\n",
    "\n",
    "fig, ax = plt.subplots()\n",
    "im = ax.imshow(ne_ST_tg, interpolation='lanczos', origin='lower',\n",
    "               cmap='RdBu_r', extent=NE_ST_trial.times[[0, -1, 0, -1]],\n",
    "               vmin=0., vmax=1.)\n",
    "ax.set_xlabel('Testing Time (s)')\n",
    "ax.set_ylabel('Training Time (s)')\n",
    "ax.set_title('decoding performance : no-expectation block + second target')\n",
    "ax.axvline(0, color='k')\n",
    "ax.axhline(0, color='k')\n",
    "cbar = plt.colorbar(im, ax=ax)\n",
    "cbar.set_label('AUC')"
   ]
  },
  {
   "cell_type": "code",
   "execution_count": null,
   "id": "78fc85ed-1c6d-480f-8d06-5a5800c4e5a6",
   "metadata": {},
   "outputs": [],
   "source": [
    "# train classifier on first target in no-expectation block\n",
    "\n",
    "# make pipeline\n",
    "clf_pipe = make_pipeline(Scaler(NE_C_trial.info), Vectorizer(),\n",
    "                         LogisticRegression(solver='liblinear'))\n",
    "\n",
    "# define the temporal generalization object\n",
    "time_gen = GeneralizingEstimator(clf_pipe, n_jobs=None, scoring='roc_auc', verbose=True)\n",
    "\n",
    "# conduct cross validation\n",
    "ne_C_tgs = cross_val_multiscore(time_gen, ne_C_X, ne_C_y, cv=None, n_jobs=5)\n",
    "\n",
    "# mean scores of decoding according to time point\n",
    "ne_C_tg = np.mean(ne_C_tgs, axis=0)"
   ]
  },
  {
   "cell_type": "code",
   "execution_count": null,
   "id": "a15de929-a768-4b0d-bb90-5ec9d83e646f",
   "metadata": {},
   "outputs": [],
   "source": [
    "# plot data on 2-d space using same data with upper block\n",
    "\n",
    "fig, ax = plt.subplots()\n",
    "im = ax.imshow(ne_C_tg, interpolation='lanczos', origin='lower',\n",
    "               cmap='RdBu_r', extent=NE_C_trial.times[[0, -1, 0, -1]],\n",
    "               vmin=0., vmax=1.)\n",
    "ax.set_xlabel('Testing Time (s)')\n",
    "ax.set_ylabel('Training Time (s)')\n",
    "ax.set_title('decoding performance : no-expectation block + cue')\n",
    "ax.axvline(0, color='k')\n",
    "ax.axhline(0, color='k')\n",
    "cbar = plt.colorbar(im, ax=ax)\n",
    "cbar.set_label('AUC')"
   ]
  },
  {
   "cell_type": "markdown",
   "id": "e22a449d-6706-4b54-8694-de094e74990f",
   "metadata": {
    "tags": []
   },
   "source": [
    "### expectation block"
   ]
  },
  {
   "cell_type": "code",
   "execution_count": null,
   "id": "e74e345f-777b-4882-8ee5-a486b63ac359",
   "metadata": {},
   "outputs": [],
   "source": [
    "# train classifier on first target in expectation block\n",
    "\n",
    "# make pipeline\n",
    "clf_pipe = make_pipeline(Scaler(E_FT_trial.info), Vectorizer(),\n",
    "                         LogisticRegression(solver='liblinear'))\n",
    "\n",
    "# define the temporal generalization object\n",
    "time_gen = GeneralizingEstimator(clf_pipe, n_jobs=None, scoring='roc_auc', verbose=True)\n",
    "\n",
    "# conduct cross validation\n",
    "e_FT_tgs = cross_val_multiscore(time_gen, _, _, cv=None, n_jobs=5)\n",
    "# remove _, and enter correct variable name\n",
    "\n",
    "# mean scores of decoding according to time point\n",
    "e_FT_tg = np.mean(e_FT_tgs, axis=0)"
   ]
  },
  {
   "cell_type": "code",
   "execution_count": null,
   "id": "82324a46-781f-402f-b3f7-88dd21a91d15",
   "metadata": {},
   "outputs": [],
   "source": [
    "# plot data on 2-d space using same data with upper block\n",
    "\n",
    "fig, ax = plt.subplots()\n",
    "im = ax.imshow(e_FT_tg, interpolation='lanczos', origin='lower',\n",
    "               cmap='RdBu_r', extent=E_FT_trial.times[[0, -1, 0, -1]],\n",
    "               vmin=0., vmax=1.)\n",
    "ax.set_xlabel('Testing Time (s)')\n",
    "ax.set_ylabel('Training Time (s)')\n",
    "ax.set_title('decoding performance : expectation block + first target')\n",
    "ax.axvline(0, color='k')\n",
    "ax.axhline(0, color='k')\n",
    "cbar = plt.colorbar(im, ax=ax)\n",
    "cbar.set_label('AUC')"
   ]
  },
  {
   "cell_type": "code",
   "execution_count": null,
   "id": "f39a09f8-6dc3-49c3-a690-80a867003fae",
   "metadata": {},
   "outputs": [],
   "source": [
    "# train classifier on first target in expectation block\n",
    "\n",
    "# make pipeline\n",
    "clf_pipe = make_pipeline(Scaler(E_ST_trial.info), Vectorizer(),\n",
    "                         LogisticRegression(solver='liblinear'))\n",
    "\n",
    "# define the temporal generalization object\n",
    "time_gen = GeneralizingEstimator(clf_pipe, n_jobs=None, scoring='roc_auc', verbose=True)\n",
    "\n",
    "# conduct cross validation\n",
    "e_ST_tgs = cross_val_multiscore(time_gen, _, _, cv=None, n_jobs=5)\n",
    "# remove _, and enter correct variable name\n",
    "\n",
    "# mean scores of decoding according to time point\n",
    "e_ST_tg = np.mean(e_ST_tgs, axis=0)"
   ]
  },
  {
   "cell_type": "code",
   "execution_count": null,
   "id": "f28e29de-3b27-4ee4-9442-5618b9675039",
   "metadata": {},
   "outputs": [],
   "source": [
    "# plot data on 2-d space using same data with upper block\n",
    "\n",
    "fig, ax = plt.subplots()\n",
    "im = ax.imshow(e_ST_tg, interpolation='lanczos', origin='lower',\n",
    "               cmap='RdBu_r', extent=E_ST_trial.times[[0, -1, 0, -1]],\n",
    "               vmin=0., vmax=1.)\n",
    "ax.set_xlabel('Testing Time (s)')\n",
    "ax.set_ylabel('Training Time (s)')\n",
    "ax.set_title('decoding performance : expectation block + second target')\n",
    "ax.axvline(0, color='k')\n",
    "ax.axhline(0, color='k')\n",
    "cbar = plt.colorbar(im, ax=ax)\n",
    "cbar.set_label('AUC')"
   ]
  },
  {
   "cell_type": "code",
   "execution_count": null,
   "id": "c8e8fd1b-6b85-4b36-898a-a5d545b16cc1",
   "metadata": {},
   "outputs": [],
   "source": [
    "# train classifier on first target in expectation block\n",
    "\n",
    "# make pipeline\n",
    "clf_pipe = make_pipeline(Scaler(E_C_trial.info), Vectorizer(),\n",
    "                         LogisticRegression(solver='liblinear'))\n",
    "\n",
    "# define the temporal generalization object\n",
    "time_gen = GeneralizingEstimator(clf_pipe, n_jobs=None, scoring='roc_auc', verbose=True)\n",
    "\n",
    "# conduct cross validation\n",
    "e_C_tgs = cross_val_multiscore(time_gen, _, _, cv=None, n_jobs=5)\n",
    "# remove _, and enter correct variable name\n",
    "\n",
    "# mean scores of decoding according to time point\n",
    "e_C_tg = np.mean(e_C_tgs, axis=0)"
   ]
  },
  {
   "cell_type": "code",
   "execution_count": null,
   "id": "92bdeae7-4cd0-4bb1-9a98-abf26a147c1e",
   "metadata": {},
   "outputs": [],
   "source": [
    "# plot data on 2-d space using same data with upper block\n",
    "\n",
    "fig, ax = plt.subplots()\n",
    "im = ax.imshow(e_C_tg, interpolation='lanczos', origin='lower',\n",
    "               cmap='RdBu_r', extent=E_C_trial.times[[0, -1, 0, -1]],\n",
    "               vmin=0., vmax=1.)\n",
    "ax.set_xlabel('Testing Time (s)')\n",
    "ax.set_ylabel('Training Time (s)')\n",
    "ax.set_title('decoding performance : expectation block + cue')\n",
    "ax.axvline(0, color='k')\n",
    "ax.axhline(0, color='k')\n",
    "cbar = plt.colorbar(im, ax=ax)\n",
    "cbar.set_label('AUC')"
   ]
  },
  {
   "cell_type": "markdown",
   "id": "1f4e1394-61c8-4e62-84a9-ee0ec83bd182",
   "metadata": {
    "tags": []
   },
   "source": [
    "### expectation block + distractor-absent"
   ]
  },
  {
   "cell_type": "code",
   "execution_count": null,
   "id": "873cca11-2160-4fe0-aa38-3a4d9e0f344a",
   "metadata": {},
   "outputs": [],
   "source": [
    "# train classifier on first target in distractor-absent trials\n",
    "\n",
    "# make pipeline\n",
    "clf_pipe = make_pipeline(Scaler(E_ND_FT_trial.info), Vectorizer(),\n",
    "                         LogisticRegression(solver='liblinear'))\n",
    "\n",
    "# define the temporal generalization object\n",
    "time_gen = GeneralizingEstimator(clf_pipe, n_jobs=None, scoring='roc_auc', verbose=True)\n",
    "\n",
    "# conduct cross validation\n",
    "e_nd_FT_tgs = cross_val_multiscore(time_gen, _, _, cv=None, n_jobs=5)\n",
    "# remove _, and enter correct variable name\n",
    "\n",
    "# mean scores of decoding according to time point\n",
    "e_nd_FT_tg = np.mean(e_nd_FT_tgs, axis=0)"
   ]
  },
  {
   "cell_type": "code",
   "execution_count": null,
   "id": "eee3c804-d47d-4de1-98f6-a56c85b9faaa",
   "metadata": {},
   "outputs": [],
   "source": [
    "# plot data on 2-d space using same data with upper block\n",
    "\n",
    "fig, ax = plt.subplots()\n",
    "im = ax.imshow(e_nd_FT_tg, interpolation='lanczos', origin='lower',\n",
    "               cmap='RdBu_r', extent=E_ND_FT_trial.times[[0, -1, 0, -1]],\n",
    "               vmin=0., vmax=1.)\n",
    "ax.set_xlabel('Testing Time (s)')\n",
    "ax.set_ylabel('Training Time (s)')\n",
    "ax.set_title('decoding performance : distractor-absent + first target')\n",
    "ax.axvline(0, color='k')\n",
    "ax.axhline(0, color='k')\n",
    "cbar = plt.colorbar(im, ax=ax)\n",
    "cbar.set_label('AUC')"
   ]
  },
  {
   "cell_type": "code",
   "execution_count": null,
   "id": "f7fa3300-af5b-4be2-ab7b-9d1a5bff1018",
   "metadata": {},
   "outputs": [],
   "source": [
    "# train classifier on first target in distractor-absent trials\n",
    "\n",
    "# make pipeline\n",
    "clf_pipe = make_pipeline(Scaler(E_ND_ST_trial.info), Vectorizer(),\n",
    "                         LogisticRegression(solver='liblinear'))\n",
    "\n",
    "# define the temporal generalization object\n",
    "time_gen = GeneralizingEstimator(clf_pipe, n_jobs=None, scoring='roc_auc', verbose=True)\n",
    "\n",
    "# conduct cross validation\n",
    "e_nd_ST_tgs = cross_val_multiscore(time_gen, _, _, cv=None, n_jobs=5)\n",
    "# remove _, and enter correct variable name\n",
    "\n",
    "# mean scores of decoding according to time point\n",
    "e_nd_ST_tg = np.mean(e_nd_ST_tgs, axis=0)"
   ]
  },
  {
   "cell_type": "code",
   "execution_count": null,
   "id": "7d49f911-f96f-46ae-b2a1-65060111385e",
   "metadata": {},
   "outputs": [],
   "source": [
    "# plot data on 2-d space using same data with upper block\n",
    "\n",
    "fig, ax = plt.subplots()\n",
    "im = ax.imshow(e_nd_ST_tg, interpolation='lanczos', origin='lower',\n",
    "               cmap='RdBu_r', extent=E_ND_ST_trial.times[[0, -1, 0, -1]],\n",
    "               vmin=0., vmax=1.)\n",
    "ax.set_xlabel('Testing Time (s)')\n",
    "ax.set_ylabel('Training Time (s)')\n",
    "ax.set_title('decoding performance : distractor-absent + second target')\n",
    "ax.axvline(0, color='k')\n",
    "ax.axhline(0, color='k')\n",
    "cbar = plt.colorbar(im, ax=ax)\n",
    "cbar.set_label('AUC')"
   ]
  },
  {
   "cell_type": "code",
   "execution_count": null,
   "id": "5497d658-be87-4896-8926-820cfc325076",
   "metadata": {},
   "outputs": [],
   "source": [
    "# train classifier on first target in distractor-absent trials\n",
    "\n",
    "# make pipeline\n",
    "clf_pipe = make_pipeline(Scaler(E_ND_C_trial.info), Vectorizer(),\n",
    "                         LogisticRegression(solver='liblinear'))\n",
    "\n",
    "# define the temporal generalization object\n",
    "time_gen = GeneralizingEstimator(clf_pipe, n_jobs=None, scoring='roc_auc', verbose=True)\n",
    "\n",
    "# conduct cross validation\n",
    "e_nd_C_tgs = cross_val_multiscore(time_gen, _, _, cv=None, n_jobs=5)\n",
    "# remove _, and enter correct variable name\n",
    "\n",
    "# mean scores of decoding according to time point\n",
    "e_nd_C_tg = np.mean(e_nd_C_tgs, axis=0)"
   ]
  },
  {
   "cell_type": "code",
   "execution_count": null,
   "id": "6f8ef0ce-1692-4a71-8014-0f74ed5dc2a4",
   "metadata": {},
   "outputs": [],
   "source": [
    "# plot data on 2-d space using same data with upper block\n",
    "\n",
    "fig, ax = plt.subplots()\n",
    "im = ax.imshow(e_nd_C_tg, interpolation='lanczos', origin='lower',\n",
    "               cmap='RdBu_r', extent=E_ND_C_trial.times[[0, -1, 0, -1]],\n",
    "               vmin=0., vmax=1.)\n",
    "ax.set_xlabel('Testing Time (s)')\n",
    "ax.set_ylabel('Training Time (s)')\n",
    "ax.set_title('decoding performance : distractor-absent + cue')\n",
    "ax.axvline(0, color='k')\n",
    "ax.axhline(0, color='k')\n",
    "cbar = plt.colorbar(im, ax=ax)\n",
    "cbar.set_label('AUC')"
   ]
  },
  {
   "cell_type": "markdown",
   "id": "f0d016af-93ba-482c-959f-d0fcead41b2f",
   "metadata": {
    "tags": []
   },
   "source": [
    "### expectation block + distractor-present"
   ]
  },
  {
   "cell_type": "code",
   "execution_count": null,
   "id": "ec44e0bb-bcbe-4b4c-9b8d-ec13ffcf7a39",
   "metadata": {},
   "outputs": [],
   "source": [
    "# train classifier on first target in distractor-present trials\n",
    "\n",
    "# make pipeline\n",
    "clf_pipe = make_pipeline(Scaler(E_D_FT_trial.info), Vectorizer(),\n",
    "                         LogisticRegression(solver='liblinear'))\n",
    "\n",
    "# define the temporal generalization object\n",
    "time_gen = GeneralizingEstimator(clf_pipe, n_jobs=None, scoring='roc_auc', verbose=True)\n",
    "\n",
    "# conduct cross validation\n",
    "e_d_FT_tgs = cross_val_multiscore(time_gen, _, _, cv=None, n_jobs=5)\n",
    "# remove _, and enter correct variable name\n",
    "\n",
    "# mean scores of decoding according to time point\n",
    "e_d_FT_tg = np.mean(e_d_FT_tgs, axis=0)"
   ]
  },
  {
   "cell_type": "code",
   "execution_count": null,
   "id": "b8a38e17-76cc-4c19-83ea-f7f9e0b65c57",
   "metadata": {},
   "outputs": [],
   "source": [
    "# plot data on 2-d space using same data with upper block\n",
    "\n",
    "fig, ax = plt.subplots()\n",
    "im = ax.imshow(e_d_FT_tg, interpolation='lanczos', origin='lower',\n",
    "               cmap='RdBu_r', extent=E_D_FT_trial.times[[0, -1, 0, -1]],\n",
    "               vmin=0., vmax=1.)\n",
    "ax.set_xlabel('Testing Time (s)')\n",
    "ax.set_ylabel('Training Time (s)')\n",
    "ax.set_title('decoding performance : distractor-present + first target')\n",
    "ax.axvline(0, color='k')\n",
    "ax.axhline(0, color='k')\n",
    "cbar = plt.colorbar(im, ax=ax)\n",
    "cbar.set_label('AUC')"
   ]
  },
  {
   "cell_type": "code",
   "execution_count": null,
   "id": "2a185d4d-3017-47ed-98e7-116d072c5564",
   "metadata": {},
   "outputs": [],
   "source": [
    "# train classifier on first target in distractor-present trials\n",
    "\n",
    "# make pipeline\n",
    "clf_pipe = make_pipeline(Scaler(E_D_ST_trial.info), Vectorizer(),\n",
    "                         LogisticRegression(solver='liblinear'))\n",
    "\n",
    "# define the temporal generalization object\n",
    "time_gen = GeneralizingEstimator(clf_pipe, n_jobs=None, scoring='roc_auc', verbose=True)\n",
    "\n",
    "# conduct cross validation\n",
    "e_d_ST_tgs = cross_val_multiscore(time_gen, _, _, cv=None, n_jobs=5)\n",
    "# remove _, and enter correct variable name\n",
    "\n",
    "# mean scores of decoding according to time point\n",
    "e_d_ST_tg = np.mean(e_d_ST_tgs, axis=0)"
   ]
  },
  {
   "cell_type": "code",
   "execution_count": null,
   "id": "4c4154f0-8858-41fe-b169-4be789f3c8d0",
   "metadata": {},
   "outputs": [],
   "source": [
    "# plot data on 2-d space using same data with upper block\n",
    "\n",
    "fig, ax = plt.subplots()\n",
    "im = ax.imshow(e_d_ST_tg, interpolation='lanczos', origin='lower',\n",
    "               cmap='RdBu_r', extent=E_D_ST_trial.times[[0, -1, 0, -1]],\n",
    "               vmin=0., vmax=1.)\n",
    "ax.set_xlabel('Testing Time (s)')\n",
    "ax.set_ylabel('Training Time (s)')\n",
    "ax.set_title('decoding performance : distractor-present + second target')\n",
    "ax.axvline(0, color='k')\n",
    "ax.axhline(0, color='k')\n",
    "cbar = plt.colorbar(im, ax=ax)\n",
    "cbar.set_label('AUC')"
   ]
  },
  {
   "cell_type": "code",
   "execution_count": null,
   "id": "d06eb99e-3fad-41a5-ad74-94c0739b855d",
   "metadata": {},
   "outputs": [],
   "source": [
    "# train classifier on first target in distractor-present trials\n",
    "\n",
    "# make pipeline\n",
    "clf_pipe = make_pipeline(Scaler(E_D_C_trial.info), Vectorizer(),\n",
    "                         LogisticRegression(solver='liblinear'))\n",
    "\n",
    "# define the temporal generalization object\n",
    "time_gen = GeneralizingEstimator(clf_pipe, n_jobs=None, scoring='roc_auc', verbose=True)\n",
    "\n",
    "# conduct cross validation\n",
    "e_d_C_tgs = cross_val_multiscore(time_gen, _, _, cv=None, n_jobs=5)\n",
    "# remove _, and enter correct variable name\n",
    "\n",
    "# mean scores of decoding according to time point\n",
    "e_d_C_tg = np.mean(e_d_C_tgs, axis=0)"
   ]
  },
  {
   "cell_type": "code",
   "execution_count": null,
   "id": "4c500789-bd62-47e5-92b3-a50b4f70d1d4",
   "metadata": {},
   "outputs": [],
   "source": [
    "# plot data on 2-d space using same data with upper block\n",
    "\n",
    "fig, ax = plt.subplots()\n",
    "im = ax.imshow(e_d_C_tg, interpolation='lanczos', origin='lower',\n",
    "               cmap='RdBu_r', extent=E_D_C_trial.times[[0, -1, 0, -1]],\n",
    "               vmin=0., vmax=1.)\n",
    "ax.set_xlabel('Testing Time (s)')\n",
    "ax.set_ylabel('Training Time (s)')\n",
    "ax.set_title('decoding performance : distractor-present + cue')\n",
    "ax.axvline(0, color='k')\n",
    "ax.axhline(0, color='k')\n",
    "cbar = plt.colorbar(im, ax=ax)\n",
    "cbar.set_label('AUC')"
   ]
  },
  {
   "cell_type": "markdown",
   "id": "fa3df490-6066-4a0c-896e-0e9e6f5f8454",
   "metadata": {
    "tags": []
   },
   "source": [
    "## cross-condition decoding (within-block)"
   ]
  },
  {
   "cell_type": "markdown",
   "id": "70d3c310-d094-47bd-8a23-caf77f3ea18d",
   "metadata": {
    "tags": []
   },
   "source": [
    "### no-expectation block"
   ]
  },
  {
   "cell_type": "markdown",
   "id": "84f7d61a-f007-4345-81b2-50ce6f4f5463",
   "metadata": {
    "tags": []
   },
   "source": [
    "#### trained by first target"
   ]
  },
  {
   "cell_type": "markdown",
   "id": "b9bb87f9-9ded-4d75-be49-07e0aa7ec076",
   "metadata": {
    "tags": []
   },
   "source": [
    "##### decode separately"
   ]
  },
  {
   "cell_type": "code",
   "execution_count": null,
   "id": "2f98d880-3986-47fb-973c-399276c95a09",
   "metadata": {},
   "outputs": [],
   "source": [
    "# train decoder based on first target and fit against second target\n",
    "\n",
    "FT_pipe = make_pipeline(Scaler(NE_FT_trial.info), Vectorizer(),\n",
    "                        LogisticRegression(solver='liblinear'))\n",
    "\n",
    "print('Start decoding : First to Second')\n",
    "ne_pred_FtoS = []\n",
    "for i in range(len(ne_FT_X[0][0])):\n",
    "    FT_pipe.fit(ne_FT_X[:,:,i], ne_FT_y)\n",
    "    temp_pred_FtoS = np.array([2])\n",
    "    for j in range(len(ne_ST_X[0][0])):\n",
    "        pred = FT_pipe.predict(ne_ST_X[:,:,j])\n",
    "        temp = np.array([2])\n",
    "        for k in range(len(pred)):\n",
    "            if (pred[k] == ne_ST_y[k]):\n",
    "                temp = np.hstack((temp, 1))\n",
    "            elif (pred[k] != ne_ST_y[k]):\n",
    "                temp = np.hstack((temp, 0))\n",
    "        temp = np.delete(temp, 0)\n",
    "        temp_pred_FtoS = np.hstack((temp_pred_FtoS, np.mean(temp)))\n",
    "    temp_pred_FtoS = np.delete(temp_pred_FtoS, 0)\n",
    "    if (i == 0):\n",
    "        ne_pred_FtoS = temp_pred_FtoS[None,:]\n",
    "    else:\n",
    "        ne_pred_FtoS = np.vstack((ne_pred_FtoS, temp_pred_FtoS[None,:]))\n",
    "    if ((i+1)%10 == 0):\n",
    "        print('progress : '+str(i+1)+'/'+str(len(ne_FT_X[0][0]))+'time points')\n",
    "print('DONE!')\n",
    "\n",
    "print('Start decoding : First to Cue')\n",
    "ne_pred_FtoC = []\n",
    "for i in range(len(ne_FT_X[0][0])):\n",
    "    FT_pipe.fit(ne_FT_X[:,:,i], ne_FT_y)\n",
    "    temp_pred_FtoC = np.array([2])\n",
    "    for j in range(len(ne_C_X[0][0])):\n",
    "        pred = FT_pipe.predict(ne_C_X[:,:,j])\n",
    "        temp = np.array([2])\n",
    "        for k in range(len(pred)):\n",
    "            if (pred[k] == ne_C_y[k]):\n",
    "                temp = np.hstack((temp, 1))\n",
    "            elif (pred[k] != ne_C_y[k]):\n",
    "                temp = np.hstack((temp, 0))\n",
    "        temp = np.delete(temp, 0)\n",
    "        temp_pred_FtoC = np.hstack((temp_pred_FtoC, np.mean(temp)))\n",
    "    temp_pred_FtoC = np.delete(temp_pred_FtoC, 0)\n",
    "    if (i == 0):\n",
    "        ne_pred_FtoC = temp_pred_FtoC[None,:]\n",
    "    else:\n",
    "        ne_pred_FtoC = np.vstack((ne_pred_FtoC, temp_pred_FtoC[None,:]))\n",
    "    if ((i+1)%10 == 0):\n",
    "        print('progress : '+str(i+1)+'/'+str(len(ne_FT_X[0][0]))+'time points')\n",
    "print('DONE!')"
   ]
  },
  {
   "cell_type": "code",
   "execution_count": null,
   "id": "b0e03f0d-fc35-4813-a66b-7a373e00f776",
   "metadata": {},
   "outputs": [],
   "source": [
    "# plot data on 2-d space using same data with upper block\n",
    "\n",
    "fig, ax = plt.subplots()\n",
    "im = ax.imshow(ne_pred_FtoS, interpolation='lanczos', origin='lower', cmap='RdBu_r', \n",
    "               extent=NE_ST_trial.times[[0, -1, 0, -1]], vmin=0., vmax=1.)\n",
    "ax.set_xlabel('Testing Time (s)')\n",
    "ax.set_ylabel('Training Time (s)')\n",
    "ax.set_title('decoding reseult(NE) : First to Second')\n",
    "ax.axvline(0, color='k')\n",
    "ax.axhline(0, color='k')\n",
    "cbar = plt.colorbar(im, ax=ax)\n",
    "cbar.set_label('AUC')"
   ]
  },
  {
   "cell_type": "code",
   "execution_count": null,
   "id": "31388b75-ed59-4b3f-b502-e6ae1df21b60",
   "metadata": {},
   "outputs": [],
   "source": [
    "# plot data on 2-d space using same data with upper block\n",
    "\n",
    "fig, ax = plt.subplots()\n",
    "im = ax.imshow(ne_pred_FtoC, interpolation='lanczos', origin='lower', cmap='RdBu_r', \n",
    "               extent=NE_C_trial.times[[0, -1, 0, -1]], vmin=0., vmax=1.)\n",
    "ax.set_xlabel('Testing Time (s)')\n",
    "ax.set_ylabel('Training Time (s)')\n",
    "ax.set_title('decoding reseult(NE) : First to Second')\n",
    "ax.axvline(0, color='k')\n",
    "ax.axhline(0, color='k')\n",
    "cbar = plt.colorbar(im, ax=ax)\n",
    "cbar.set_label('AUC')"
   ]
  },
  {
   "cell_type": "markdown",
   "id": "7b6539f0-ed50-4ef5-ab2a-f251cdfdb788",
   "metadata": {
    "tags": []
   },
   "source": [
    "##### decode at once"
   ]
  },
  {
   "cell_type": "code",
   "execution_count": null,
   "id": "7172c01d-ba46-435e-a903-d47feb72c12b",
   "metadata": {},
   "outputs": [],
   "source": [
    "# train decoder based on first target and predict second target and cue\n",
    "\n",
    "FT_pipe = make_pipeline(Scaler(NE_FT_trial.info), Vectorizer(),\n",
    "                        LogisticRegression(solver='liblinear'))\n",
    "\n",
    "print('Start decoding : trained on First target')\n",
    "ne_pred_FtoS = []\n",
    "ne_pred_FtoC = []\n",
    "for i in range(len(ne_FT_X[0][0])):\n",
    "    FT_pipe.fit(ne_FT_X[:,:,i], ne_FT_y)\n",
    "    temp_pred = np.array([2, 2])\n",
    "    for j in range(len(ne_ST_X[0][0])):\n",
    "        pred_S = FT_pipe.predict(ne_ST_X[:,:,j])\n",
    "        pred_C = FT_pipe.predict(ne_C_X[:,:,j])\n",
    "        temp = np.array([2, 2])\n",
    "        t_temp = np.array([2, 2])[None,:]\n",
    "        for k in range(len(pred_S)):\n",
    "            if (pred_S[k] == ne_ST_y[k]):\n",
    "                temp[0] = 1\n",
    "            elif (pred_S[k] != ne_ST_y[k]):\n",
    "                temp[0] = 0\n",
    "                \n",
    "            if (pred_C[k] == ne_C_y[k]):\n",
    "                temp[1] = 1\n",
    "            elif (pred_C[k] != ne_C_y[k]):\n",
    "                temp[1] = 0\n",
    "            t_temp = np.vstack((t_temp, temp))\n",
    "        t_temp = np.delete(t_temp, 0, axis=0)\n",
    "        temp_pred = np.vstack((temp_pred, np.mean(t_temp, axis=0)))\n",
    "    temp_pred = np.delete(temp_pred, 0, axis=0)\n",
    "    if (i == 0):\n",
    "        ne_pred_FtoS = temp_pred[:,0][None,:]\n",
    "        ne_pred_FtoC = temp_pred[:,1][None,:]\n",
    "    else:\n",
    "        ne_pred_FtoS = np.vstack((ne_pred_FtoS, temp_pred[:,0][None,:]))\n",
    "        ne_pred_FtoC = np.vstack((ne_pred_FtoC, temp_pred[:,1][None,:]))\n",
    "    if ((i+1)%10 == 0):\n",
    "        print('progress : '+str(i+1)+'/'+str(len(ne_FT_X[0][0]))+'time points')\n",
    "print('DONE!')"
   ]
  },
  {
   "cell_type": "code",
   "execution_count": null,
   "id": "b33697f9-e991-4831-85b1-3b068ec4d832",
   "metadata": {},
   "outputs": [],
   "source": [
    "# plot data on 2-d space using same data with upper block\n",
    "\n",
    "fig, ax = plt.subplots()\n",
    "im = ax.imshow(ne_pred_FtoS, interpolation='lanczos', origin='lower', cmap='RdBu_r', \n",
    "               extent=NE_ST_trial.times[[0, -1, 0, -1]], vmin=0., vmax=1.)\n",
    "ax.set_xlabel('Testing Time (s)')\n",
    "ax.set_ylabel('Training Time (s)')\n",
    "ax.set_title('decoding reseult(NE) : First to Second')\n",
    "ax.axvline(0, color='k')\n",
    "ax.axhline(0, color='k')\n",
    "cbar = plt.colorbar(im, ax=ax)\n",
    "cbar.set_label('AUC')"
   ]
  },
  {
   "cell_type": "code",
   "execution_count": null,
   "id": "1f104a1c-af61-444e-9507-99d49f79e898",
   "metadata": {},
   "outputs": [],
   "source": [
    "# plot data on 2-d space using same data with upper block\n",
    "\n",
    "fig, ax = plt.subplots()\n",
    "im = ax.imshow(ne_pred_FtoC, interpolation='lanczos', origin='lower', cmap='RdBu_r', \n",
    "               extent=NE_C_trial.times[[0, -1, 0, -1]], vmin=0., vmax=1.)\n",
    "ax.set_xlabel('Testing Time (s)')\n",
    "ax.set_ylabel('Training Time (s)')\n",
    "ax.set_title('decoding reseult(NE) : First to Second')\n",
    "ax.axvline(0, color='k')\n",
    "ax.axhline(0, color='k')\n",
    "cbar = plt.colorbar(im, ax=ax)\n",
    "cbar.set_label('AUC')"
   ]
  },
  {
   "cell_type": "markdown",
   "id": "6686ae1d-d529-419a-93ef-d16192e46ebf",
   "metadata": {
    "tags": []
   },
   "source": [
    "##### make decoding function"
   ]
  },
  {
   "cell_type": "code",
   "execution_count": null,
   "id": "49d645a8-39f1-44cf-8eae-8a3406fbc02c",
   "metadata": {},
   "outputs": [],
   "source": [
    "def cross_condition_dec(fit_trial, fit_X, fit_y, predict_X, predict_y, cond):\n",
    "    \n",
    "    predict_y = np.array(predict_y)\n",
    "    train_pipe = make_pipeline(Scaler(fit_trial.info), Vectorizer(),\n",
    "                               LogisticRegression(solver='liblinear'))\n",
    "\n",
    "    print('Start decoding : ' + str(cond))\n",
    "    decoding_result = []\n",
    "    for i in range(len(fit_X[0][0])):\n",
    "        train_pipe.fit(fit_X[:,:,i], fit_y)\n",
    "        temp_result = np.array([2])\n",
    "        for j in range(len(predict_X[0][0])):\n",
    "            pred = train_pipe.predict(predict_X[:,:,j])\n",
    "            temp = np.array([2])\n",
    "            for k in range(len(pred)):\n",
    "                if (pred[k] == predict_y[k]):\n",
    "                    temp = np.hstack((temp, 1))\n",
    "                elif (pred[k] != predict_y[k]):\n",
    "                    temp = np.hstack((temp, 0))\n",
    "            temp = np.delete(temp, 0)\n",
    "            temp_result = np.hstack((temp_result, np.mean(temp)))\n",
    "        temp_result = np.delete(temp_result, 0)\n",
    "        if (i == 0):\n",
    "            decoding_result = temp_result[None,:]\n",
    "        else:\n",
    "            decoding_result = np.vstack((decoding_result, temp_result[None,:]))\n",
    "        if ((i+1)%10 == 0):\n",
    "            print('progress : '+str(i+1)+'/'+str(len(fit_X[0][0]))+'trials')\n",
    "    print('DONE!')\n",
    "    \n",
    "    return decoding_result"
   ]
  },
  {
   "cell_type": "code",
   "execution_count": null,
   "id": "b136d8b5-a075-4a8a-a936-9fbe628bc075",
   "metadata": {},
   "outputs": [],
   "source": [
    "ne_pred_FtoS = cross_condition_dec(NE_FT_trial, ne_FT_X, ne_FT_y,\n",
    "                                   ne_ST_X, ne_ST_y, 'First to Second')"
   ]
  },
  {
   "cell_type": "code",
   "execution_count": null,
   "id": "f0039094-414a-457f-928e-c994da37d386",
   "metadata": {},
   "outputs": [],
   "source": [
    "# plot data on 2-d space using same data with upper block\n",
    "\n",
    "fig, ax = plt.subplots()\n",
    "im = ax.imshow(ne_pred_FtoS, interpolation='lanczos', origin='lower', cmap='RdBu_r', \n",
    "               extent=NE_ST_trial.times[[0, -1, 0, -1]], vmin=0., vmax=1.)\n",
    "ax.set_xlabel('Testing Time (s)')\n",
    "ax.set_ylabel('Training Time (s)')\n",
    "ax.set_title('decoding reseult(NE) : First to Second')\n",
    "ax.axvline(0, color='k')\n",
    "ax.axhline(0, color='k')\n",
    "cbar = plt.colorbar(im, ax=ax)\n",
    "cbar.set_label('AUC')"
   ]
  },
  {
   "cell_type": "code",
   "execution_count": null,
   "id": "7f7515d0-e455-480b-b105-ea2432d5a944",
   "metadata": {},
   "outputs": [],
   "source": [
    "ne_pred_FtoC = cross_condition_dec(NE_FT_trial, ne_FT_X, ne_FT_y,\n",
    "                                   ne_C_X, ne_C_y, 'First to Cue')"
   ]
  },
  {
   "cell_type": "code",
   "execution_count": null,
   "id": "ca2d90e8-94a9-41d2-98ee-af5734a23d17",
   "metadata": {},
   "outputs": [],
   "source": [
    "# plot data on 2-d space using same data with upper block\n",
    "\n",
    "fig, ax = plt.subplots()\n",
    "im = ax.imshow(ne_pred_FtoC, interpolation='lanczos', origin='lower', cmap='RdBu_r', \n",
    "               extent=NE_C_trial.times[[0, -1, 0, -1]], vmin=0., vmax=1.)\n",
    "ax.set_xlabel('Testing Time (s)')\n",
    "ax.set_ylabel('Training Time (s)')\n",
    "ax.set_title('decoding reseult(NE) : First to Cue')\n",
    "ax.axvline(0, color='k')\n",
    "ax.axhline(0, color='k')\n",
    "cbar = plt.colorbar(im, ax=ax)\n",
    "cbar.set_label('AUC')"
   ]
  },
  {
   "cell_type": "markdown",
   "id": "19618526-a88d-4459-91bc-41607e6eb6b8",
   "metadata": {},
   "source": [
    "#### trained by second target"
   ]
  },
  {
   "cell_type": "code",
   "execution_count": null,
   "id": "ebf8bd49-5809-436e-88e1-b14a84fa6ee5",
   "metadata": {},
   "outputs": [],
   "source": [
    "ne_StoF = cross_condition_dec(NE_ST_trial, ne_ST_X, ne_ST_y,\n",
    "                              ne_FT_X, ne_FT_y, 'Second to First')"
   ]
  },
  {
   "cell_type": "code",
   "execution_count": null,
   "id": "5c31c216-573a-436b-93c1-4c9b35c14f33",
   "metadata": {},
   "outputs": [],
   "source": [
    "# plot data on 2-d space using same data with upper block\n",
    "\n",
    "fig, ax = plt.subplots()\n",
    "im = ax.imshow(ne_StoF, interpolation='lanczos', origin='lower', cmap='RdBu_r',\n",
    "               extent=NE_FT_trial.times[[0, -1, 0, -1]], vmin=0., vmax=1.)\n",
    "ax.set_xlabel('Testing Time (s)')\n",
    "ax.set_ylabel('Training Time (s)')\n",
    "ax.set_title('decoding reseult(NE) : Second to First')\n",
    "ax.axvline(0, color='k')\n",
    "ax.axhline(0, color='k')\n",
    "cbar = plt.colorbar(im, ax=ax)\n",
    "cbar.set_label('AUC')"
   ]
  },
  {
   "cell_type": "code",
   "execution_count": null,
   "id": "39acdc3e-d523-4820-a235-5e62364e3bcb",
   "metadata": {},
   "outputs": [],
   "source": [
    "ne_pred_StoC = cross_condition_dec(NE_ST_trial, ne_ST_X, ne_ST_y,\n",
    "                                   ne_C_X, ne_C_y, 'Second to Cue')"
   ]
  },
  {
   "cell_type": "code",
   "execution_count": null,
   "id": "bb86bce2-3953-4afe-af6e-e70138140d28",
   "metadata": {},
   "outputs": [],
   "source": [
    "# plot data on 2-d space using same data with upper block\n",
    "\n",
    "fig, ax = plt.subplots()\n",
    "im = ax.imshow(ne_pred_StoC, interpolation='lanczos', origin='lower', cmap='RdBu_r',\n",
    "               extent=NE_C_trial.times[[0, -1, 0, -1]], vmin=0., vmax=1.)\n",
    "ax.set_xlabel('Testing Time (s)')\n",
    "ax.set_ylabel('Training Time (s)')\n",
    "ax.set_title('decoding result(NE) : Second to Cue')\n",
    "ax.axvline(0, color='k')\n",
    "ax.axhline(0, color='k')\n",
    "cbar = plt.colorbar(im, ax=ax)\n",
    "cbar.set_label('AUC')"
   ]
  },
  {
   "cell_type": "markdown",
   "id": "bc54e9dd-c68e-4700-9420-d4af28c597bb",
   "metadata": {},
   "source": [
    "#### trained by cue"
   ]
  },
  {
   "cell_type": "code",
   "execution_count": null,
   "id": "dc8f9837-6af4-4173-bb47-cef501a51607",
   "metadata": {},
   "outputs": [],
   "source": [
    "ne_pred_CtoF = cross_condition_dec(NE_C_trial, ne_C_X, ne_C_y,\n",
    "                                   ne_FT_X, ne_FT_y, 'Cue to First')"
   ]
  },
  {
   "cell_type": "code",
   "execution_count": null,
   "id": "810b349f-8317-4d99-9b09-95ec36446529",
   "metadata": {},
   "outputs": [],
   "source": [
    "# plot data on 2-d space using same data with upper block\n",
    "\n",
    "fig, ax = plt.subplots()\n",
    "im = ax.imshow(ne_pred_CtoF, interpolation='lanczos', origin='lower', cmap='RdBu_r',\n",
    "               extent=NE_FT_trial.times[[0, -1, 0, -1]], vmin=0., vmax=1.)\n",
    "ax.set_xlabel('Testing Time (s)')\n",
    "ax.set_ylabel('Training Time (s)')\n",
    "ax.set_title('decoding reseult(NE) : Cue to First')\n",
    "ax.axvline(0, color='k')\n",
    "ax.axhline(0, color='k')\n",
    "cbar = plt.colorbar(im, ax=ax)\n",
    "cbar.set_label('AUC')"
   ]
  },
  {
   "cell_type": "code",
   "execution_count": null,
   "id": "e797570e-96de-458d-b9c8-b5f85d8e9a70",
   "metadata": {},
   "outputs": [],
   "source": [
    "ne_pred_CtoS = cross_condition_dec(NE_C_trial, ne_C_X, ne_C_y,\n",
    "                                   ne_ST_X, ne_ST_y, 'Cue to Second')"
   ]
  },
  {
   "cell_type": "code",
   "execution_count": null,
   "id": "191b0f9e-e3be-475b-b3cf-4723e93605ad",
   "metadata": {},
   "outputs": [],
   "source": [
    "# plot data on 2-d space using same data with upper block\n",
    "\n",
    "fig, ax = plt.subplots()\n",
    "im = ax.imshow(ne_pred_CtoS, interpolation='lanczos', origin='lower', cmap='RdBu_r',\n",
    "               extent=NE_ST_trial.times[[0, -1, 0, -1]], vmin=0., vmax=1.)\n",
    "ax.set_xlabel('Testing Time (s)')\n",
    "ax.set_ylabel('Training Time (s)')\n",
    "ax.set_title('decoding result(NE) : Cue to Second')\n",
    "ax.axvline(0, color='k')\n",
    "ax.axhline(0, color='k')\n",
    "cbar = plt.colorbar(im, ax=ax)\n",
    "cbar.set_label('AUC')"
   ]
  },
  {
   "cell_type": "markdown",
   "id": "65a9564c-b74d-4141-b4aa-70fc47ef34c3",
   "metadata": {},
   "source": [
    "### expectation block"
   ]
  },
  {
   "cell_type": "markdown",
   "id": "c0e1fcb8-66d5-407e-bd3b-cc8b1f4170aa",
   "metadata": {},
   "source": [
    "#### trained by first target"
   ]
  },
  {
   "cell_type": "code",
   "execution_count": null,
   "id": "825ec509-5e46-4dfe-99ed-0f454a0b502f",
   "metadata": {},
   "outputs": [],
   "source": [
    "e_pred_FtoS = cross_condition_dec(_, _, _,\n",
    "                                  _, _, 'First to Second')\n",
    "# remove _s, and enter correct variable names"
   ]
  },
  {
   "cell_type": "code",
   "execution_count": null,
   "id": "ca3cb58e-7fb4-47fd-bf37-4e718cb94e54",
   "metadata": {},
   "outputs": [],
   "source": [
    "# plot data on 2-d space using same data with upper block\n",
    "\n",
    "fig, ax = plt.subplots()\n",
    "im = ax.imshow(_, interpolation='lanczos', origin='lower', cmap='RdBu_r',\n",
    "               extent=_.times[[0, -1, 0, -1]], vmin=0., vmax=1.)\n",
    "# remove _s, and enter correct variable names\n",
    "ax.set_xlabel('Testing Time (s)')\n",
    "ax.set_ylabel('Training Time (s)')\n",
    "ax.set_title('decoding reseult(NE) : First to Second')\n",
    "ax.axvline(0, color='k')\n",
    "ax.axhline(0, color='k')\n",
    "cbar = plt.colorbar(im, ax=ax)\n",
    "cbar.set_label('AUC')"
   ]
  },
  {
   "cell_type": "code",
   "execution_count": null,
   "id": "ce511688-46e6-4d6b-8a85-1eb9f8287943",
   "metadata": {},
   "outputs": [],
   "source": [
    "e_pred_FtoC = cross_condition_dec(_, _, _,\n",
    "                                  _, _, 'First to Cue')\n",
    "# remove _s, and enter correct variable names"
   ]
  },
  {
   "cell_type": "code",
   "execution_count": null,
   "id": "52122b4f-2456-481c-9abd-709459a391da",
   "metadata": {},
   "outputs": [],
   "source": [
    "# plot data on 2-d space using same data with upper block\n",
    "\n",
    "fig, ax = plt.subplots()\n",
    "im = ax.imshow(_, interpolation='lanczos', origin='lower', cmap='RdBu_r',\n",
    "               extent=_.times[[0, -1, 0, -1]], vmin=0., vmax=1.)\n",
    "# remove _s, and enter correct variable names\n",
    "ax.set_xlabel('Testing Time (s)')\n",
    "ax.set_ylabel('Training Time (s)')\n",
    "ax.set_title('decoding result(E) : First to Cue')\n",
    "ax.axvline(0, color='k')\n",
    "ax.axhline(0, color='k')\n",
    "cbar = plt.colorbar(im, ax=ax)\n",
    "cbar.set_label('AUC')"
   ]
  },
  {
   "cell_type": "markdown",
   "id": "b4345fdc-2234-4ae2-a831-b8f6924f0303",
   "metadata": {},
   "source": [
    "#### trained by second target"
   ]
  },
  {
   "cell_type": "code",
   "execution_count": null,
   "id": "36632731-fa18-42bc-a4d4-fd5c09b8806b",
   "metadata": {},
   "outputs": [],
   "source": [
    "e_pred_StoF = cross_condition_dec(_, _, _,\n",
    "                                  _, _, 'Second to First')\n",
    "# remove _s, and enter correct variable names"
   ]
  },
  {
   "cell_type": "code",
   "execution_count": null,
   "id": "9a0d01cf-d3ad-4a21-bf9b-d20a778ee427",
   "metadata": {},
   "outputs": [],
   "source": [
    "# plot data on 2-d space using same data with upper block\n",
    "\n",
    "fig, ax = plt.subplots()\n",
    "im = ax.imshow(_, interpolation='lanczos', origin='lower', cmap='RdBu_r',\n",
    "               extent=_.times[[0, -1, 0, -1]], vmin=0., vmax=1.)\n",
    "# remove _s, and enter correct variable names\n",
    "ax.set_xlabel('Testing Time (s)')\n",
    "ax.set_ylabel('Training Time (s)')\n",
    "ax.set_title('decoding reseult(E) : Second to First')\n",
    "ax.axvline(0, color='k')\n",
    "ax.axhline(0, color='k')\n",
    "cbar = plt.colorbar(im, ax=ax)\n",
    "cbar.set_label('AUC')"
   ]
  },
  {
   "cell_type": "code",
   "execution_count": null,
   "id": "cc2c311a-32d2-4b6b-892d-abc22b66914f",
   "metadata": {},
   "outputs": [],
   "source": [
    "e_pred_StoC = cross_condition_dec(_, _, _,\n",
    "                                  _, _, 'Second to Cue')\n",
    "# remove _s, and enter correct variable names"
   ]
  },
  {
   "cell_type": "code",
   "execution_count": null,
   "id": "dbb0deab-b2d8-432d-8484-376448221ca7",
   "metadata": {},
   "outputs": [],
   "source": [
    "# plot data on 2-d space using same data with upper block\n",
    "\n",
    "fig, ax = plt.subplots()\n",
    "im = ax.imshow(_, interpolation='lanczos', origin='lower', cmap='RdBu_r',\n",
    "               extent=_.times[[0, -1, 0, -1]], vmin=0., vmax=1.)\n",
    "# remove _s, and enter correct variable names\n",
    "ax.set_xlabel('Testing Time (s)')\n",
    "ax.set_ylabel('Training Time (s)')\n",
    "ax.set_title('decoding result(E) : Second to Cue')\n",
    "ax.axvline(0, color='k')\n",
    "ax.axhline(0, color='k')\n",
    "cbar = plt.colorbar(im, ax=ax)\n",
    "cbar.set_label('AUC')"
   ]
  },
  {
   "cell_type": "markdown",
   "id": "be009672-7cd2-427e-b4c7-5580057abf15",
   "metadata": {},
   "source": [
    "#### trained by cue"
   ]
  },
  {
   "cell_type": "code",
   "execution_count": null,
   "id": "368545b6-1682-4997-803a-9edcfb129d1e",
   "metadata": {},
   "outputs": [],
   "source": [
    "e_pred_CtoF = cross_condition_dec(_, _, _,\n",
    "                                  _, _, 'Cue to First')\n",
    "# remove _s, and enter correct variable names"
   ]
  },
  {
   "cell_type": "code",
   "execution_count": null,
   "id": "6fe8886d-0471-482e-b792-214170d1a637",
   "metadata": {},
   "outputs": [],
   "source": [
    "# plot data on 2-d space using same data with upper block\n",
    "\n",
    "fig, ax = plt.subplots()\n",
    "im = ax.imshow(_, interpolation='lanczos', origin='lower', cmap='RdBu_r',\n",
    "               extent=_.times[[0, -1, 0, -1]], vmin=0., vmax=1.)\n",
    "# remove _s, and enter correct variable names\n",
    "ax.set_xlabel('Testing Time (s)')\n",
    "ax.set_ylabel('Training Time (s)')\n",
    "ax.set_title('decoding result(E) : Cue to First')\n",
    "ax.axvline(0, color='k')\n",
    "ax.axhline(0, color='k')\n",
    "cbar = plt.colorbar(im, ax=ax)\n",
    "cbar.set_label('AUC')"
   ]
  },
  {
   "cell_type": "code",
   "execution_count": null,
   "id": "79c8d010-4f8c-40b5-a705-7dec0d49851a",
   "metadata": {},
   "outputs": [],
   "source": [
    "e_pred_CtoS = cross_condition_dec(_, _, _,\n",
    "                                  _, _, 'Cue to Second')\n",
    "# remove _s, and enter correct variable names"
   ]
  },
  {
   "cell_type": "code",
   "execution_count": null,
   "id": "b0862a5a-e287-42a3-9972-d953dae9408e",
   "metadata": {},
   "outputs": [],
   "source": [
    "# plot data on 2-d space using same data with upper block\n",
    "\n",
    "fig, ax = plt.subplots()\n",
    "im = ax.imshow(_, interpolation='lanczos', origin='lower', cmap='RdBu_r',\n",
    "               extent=_.times[[0, -1, 0, -1]], vmin=0., vmax=1.)\n",
    "# remove _s, and enter correct variable names\n",
    "ax.set_xlabel('Testing Time (s)')\n",
    "ax.set_ylabel('Training Time (s)')\n",
    "ax.set_title('decoding result(E) : Cue to Second')\n",
    "ax.axvline(0, color='k')\n",
    "ax.axhline(0, color='k')\n",
    "cbar = plt.colorbar(im, ax=ax)\n",
    "cbar.set_label('AUC')"
   ]
  },
  {
   "cell_type": "markdown",
   "id": "3ab49bf5-7f7c-4872-852d-5a673ee686d5",
   "metadata": {},
   "source": [
    "### expectation block + distractor-absent"
   ]
  },
  {
   "cell_type": "code",
   "execution_count": null,
   "id": "6fc72f66-83a0-491e-a044-b01ad2c027aa",
   "metadata": {},
   "outputs": [],
   "source": [
    "e_nd_pred_FtoS = cross_condition_dec(_, _, _,\n",
    "                                     _, _, 'First to Second')\n",
    "# remove _s, and enter correct variable names"
   ]
  },
  {
   "cell_type": "code",
   "execution_count": null,
   "id": "613c5aa5-d5ce-420d-ac9a-322b2ef9412b",
   "metadata": {},
   "outputs": [],
   "source": [
    "# plot data on 2-d space using same data with upper block\n",
    "\n",
    "fig, ax = plt.subplots()\n",
    "im = ax.imshow(_, interpolation='lanczos', origin='lower', cmap='RdBu_r',\n",
    "               extent=_.times[[0, -1, 0, -1]], vmin=0., vmax=1.)\n",
    "# remove _s, and enter correct variable names\n",
    "ax.set_xlabel('Testing Time (s)')\n",
    "ax.set_ylabel('Training Time (s)')\n",
    "ax.set_title('decoding reseult(NE) : First to Second')\n",
    "ax.axvline(0, color='k')\n",
    "ax.axhline(0, color='k')\n",
    "cbar = plt.colorbar(im, ax=ax)\n",
    "cbar.set_label('AUC')"
   ]
  },
  {
   "cell_type": "code",
   "execution_count": null,
   "id": "9111c19a-a72f-47d3-be70-805a9d740fb9",
   "metadata": {},
   "outputs": [],
   "source": [
    "e_nd_pred_FtoC = cross_condition_dec(_, _, _,\n",
    "                                     _, _, 'First to Cue')\n",
    "# remove _s, and enter correct variable names"
   ]
  },
  {
   "cell_type": "code",
   "execution_count": null,
   "id": "6dcc9cec-b939-407a-8df9-28151271b380",
   "metadata": {},
   "outputs": [],
   "source": [
    "# plot data on 2-d space using same data with upper block\n",
    "\n",
    "fig, ax = plt.subplots()\n",
    "im = ax.imshow(_, interpolation='lanczos', origin='lower', cmap='RdBu_r',\n",
    "               extent=_.times[[0, -1, 0, -1]], vmin=0., vmax=1.)\n",
    "# remove _s, and enter correct variable names\n",
    "ax.set_xlabel('Testing Time (s)')\n",
    "ax.set_ylabel('Training Time (s)')\n",
    "ax.set_title('decoding result(E) : First to Cue')\n",
    "ax.axvline(0, color='k')\n",
    "ax.axhline(0, color='k')\n",
    "cbar = plt.colorbar(im, ax=ax)\n",
    "cbar.set_label('AUC')"
   ]
  },
  {
   "cell_type": "markdown",
   "id": "ffded130-94a1-4e46-92df-a8ed35de0525",
   "metadata": {},
   "source": [
    "#### trained by second target"
   ]
  },
  {
   "cell_type": "code",
   "execution_count": null,
   "id": "61a910e1-5d36-44fd-b567-43ef5890fd99",
   "metadata": {},
   "outputs": [],
   "source": [
    "e_nd_pred_StoF = cross_condition_dec(_, _, _,\n",
    "                                     _, _, 'Second to First')\n",
    "# remove _s, and enter correct variable names"
   ]
  },
  {
   "cell_type": "code",
   "execution_count": null,
   "id": "e1e5250f-5a3f-4006-8590-f9a3baec43a2",
   "metadata": {},
   "outputs": [],
   "source": [
    "# plot data on 2-d space using same data with upper block\n",
    "\n",
    "fig, ax = plt.subplots()\n",
    "im = ax.imshow(_, interpolation='lanczos', origin='lower', cmap='RdBu_r',\n",
    "               extent=_.times[[0, -1, 0, -1]], vmin=0., vmax=1.)\n",
    "# remove _s, and enter correct variable names\n",
    "ax.set_xlabel('Testing Time (s)')\n",
    "ax.set_ylabel('Training Time (s)')\n",
    "ax.set_title('decoding reseult(E) : Second to First')\n",
    "ax.axvline(0, color='k')\n",
    "ax.axhline(0, color='k')\n",
    "cbar = plt.colorbar(im, ax=ax)\n",
    "cbar.set_label('AUC')"
   ]
  },
  {
   "cell_type": "code",
   "execution_count": null,
   "id": "0e87d210-364c-42d4-a1c8-03ae050fd823",
   "metadata": {},
   "outputs": [],
   "source": [
    "e_nd_pred_StoC = cross_condition_dec(_, _, _,\n",
    "                                     _, _, 'Second to Cue')\n",
    "# remove _s, and enter correct variable names"
   ]
  },
  {
   "cell_type": "code",
   "execution_count": null,
   "id": "55cabe6a-5540-4282-ab87-d08a2e20341d",
   "metadata": {},
   "outputs": [],
   "source": [
    "# plot data on 2-d space using same data with upper block\n",
    "\n",
    "fig, ax = plt.subplots()\n",
    "im = ax.imshow(_, interpolation='lanczos', origin='lower', cmap='RdBu_r',\n",
    "               extent=_.times[[0, -1, 0, -1]], vmin=0., vmax=1.)\n",
    "# remove _s, and enter correct variable names\n",
    "ax.set_xlabel('Testing Time (s)')\n",
    "ax.set_ylabel('Training Time (s)')\n",
    "ax.set_title('decoding result(E) : Second to Cue')\n",
    "ax.axvline(0, color='k')\n",
    "ax.axhline(0, color='k')\n",
    "cbar = plt.colorbar(im, ax=ax)\n",
    "cbar.set_label('AUC')"
   ]
  },
  {
   "cell_type": "markdown",
   "id": "5625eb71-9721-4259-a366-4e1470b6b95d",
   "metadata": {},
   "source": [
    "#### trained by cue"
   ]
  },
  {
   "cell_type": "code",
   "execution_count": null,
   "id": "b79a3420-e5d1-4e1c-834f-6b5318b46ad6",
   "metadata": {},
   "outputs": [],
   "source": [
    "e_nd_pred_CtoF = cross_condition_dec(_, _, _,\n",
    "                                     _, _, 'Cue to First')\n",
    "# remove _s, and enter correct variable names"
   ]
  },
  {
   "cell_type": "code",
   "execution_count": null,
   "id": "27073260-348a-4abd-a8b0-eed612d75f69",
   "metadata": {},
   "outputs": [],
   "source": [
    "# plot data on 2-d space using same data with upper block\n",
    "\n",
    "fig, ax = plt.subplots()\n",
    "im = ax.imshow(_, interpolation='lanczos', origin='lower', cmap='RdBu_r',\n",
    "               extent=_.times[[0, -1, 0, -1]], vmin=0., vmax=1.)\n",
    "# remove _s, and enter correct variable names\n",
    "ax.set_xlabel('Testing Time (s)')\n",
    "ax.set_ylabel('Training Time (s)')\n",
    "ax.set_title('decoding result(E) : Cue to First')\n",
    "ax.axvline(0, color='k')\n",
    "ax.axhline(0, color='k')\n",
    "cbar = plt.colorbar(im, ax=ax)\n",
    "cbar.set_label('AUC')"
   ]
  },
  {
   "cell_type": "code",
   "execution_count": null,
   "id": "83f99374-9bb2-4590-a3b3-ea7b3ace2f4e",
   "metadata": {},
   "outputs": [],
   "source": [
    "e_nd_pred_CtoS = cross_condition_dec(_, _, _,\n",
    "                                     _, _, 'Cue to Second')\n",
    "# remove _s, and enter correct variable names"
   ]
  },
  {
   "cell_type": "code",
   "execution_count": null,
   "id": "19f8ac76-dd57-4cc2-9024-938e4d983373",
   "metadata": {},
   "outputs": [],
   "source": [
    "# plot data on 2-d space using same data with upper block\n",
    "\n",
    "fig, ax = plt.subplots()\n",
    "im = ax.imshow(_, interpolation='lanczos', origin='lower', cmap='RdBu_r',\n",
    "               extent=_.times[[0, -1, 0, -1]], vmin=0., vmax=1.)\n",
    "# remove _s, and enter correct variable names\n",
    "ax.set_xlabel('Testing Time (s)')\n",
    "ax.set_ylabel('Training Time (s)')\n",
    "ax.set_title('decoding result(E) : Cue to Second')\n",
    "ax.axvline(0, color='k')\n",
    "ax.axhline(0, color='k')\n",
    "cbar = plt.colorbar(im, ax=ax)\n",
    "cbar.set_label('AUC')"
   ]
  },
  {
   "cell_type": "markdown",
   "id": "70f5a39e-1eef-4c5f-b0a0-4aa622b28183",
   "metadata": {},
   "source": [
    "### expectation block + distractor-present"
   ]
  },
  {
   "cell_type": "code",
   "execution_count": null,
   "id": "b8d00352-9084-4d9d-ad1f-8c3bfae6b20a",
   "metadata": {},
   "outputs": [],
   "source": [
    "e_d_pred_FtoS = cross_condition_dec(_, _, _,\n",
    "                                    _, _, 'First to Second')\n",
    "# remove _s, and enter correct variable names"
   ]
  },
  {
   "cell_type": "code",
   "execution_count": null,
   "id": "7312cb5d-c4ea-4b56-a774-a9e488115bfa",
   "metadata": {},
   "outputs": [],
   "source": [
    "# plot data on 2-d space using same data with upper block\n",
    "\n",
    "fig, ax = plt.subplots()\n",
    "im = ax.imshow(_, interpolation='lanczos', origin='lower', cmap='RdBu_r',\n",
    "               extent=_.times[[0, -1, 0, -1]], vmin=0., vmax=1.)\n",
    "# remove _s, and enter correct variable names\n",
    "ax.set_xlabel('Testing Time (s)')\n",
    "ax.set_ylabel('Training Time (s)')\n",
    "ax.set_title('decoding reseult(NE) : First to Second')\n",
    "ax.axvline(0, color='k')\n",
    "ax.axhline(0, color='k')\n",
    "cbar = plt.colorbar(im, ax=ax)\n",
    "cbar.set_label('AUC')"
   ]
  },
  {
   "cell_type": "code",
   "execution_count": null,
   "id": "f817d288-29ff-4519-aaf8-62aae55609b2",
   "metadata": {},
   "outputs": [],
   "source": [
    "e_d_pred_FtoC = cross_condition_dec(_, _, _,\n",
    "                                    _, _, 'First to Cue')\n",
    "# remove _s, and enter correct variable names"
   ]
  },
  {
   "cell_type": "code",
   "execution_count": null,
   "id": "5a7ba881-b1e0-48b6-add2-4db3b25f779d",
   "metadata": {},
   "outputs": [],
   "source": [
    "# plot data on 2-d space using same data with upper block\n",
    "\n",
    "fig, ax = plt.subplots()\n",
    "im = ax.imshow(_, interpolation='lanczos', origin='lower', cmap='RdBu_r',\n",
    "               extent=_.times[[0, -1, 0, -1]], vmin=0., vmax=1.)\n",
    "# remove _s, and enter correct variable names\n",
    "ax.set_xlabel('Testing Time (s)')\n",
    "ax.set_ylabel('Training Time (s)')\n",
    "ax.set_title('decoding result(E) : First to Cue')\n",
    "ax.axvline(0, color='k')\n",
    "ax.axhline(0, color='k')\n",
    "cbar = plt.colorbar(im, ax=ax)\n",
    "cbar.set_label('AUC')"
   ]
  },
  {
   "cell_type": "markdown",
   "id": "b1def28c-1368-4a8d-af42-18b446ddb89a",
   "metadata": {},
   "source": [
    "#### trained by second target"
   ]
  },
  {
   "cell_type": "code",
   "execution_count": null,
   "id": "38e1f031-30f3-4eed-ba7f-29c4a97a14fc",
   "metadata": {},
   "outputs": [],
   "source": [
    "e_d_pred_StoF = cross_condition_dec(_, _, _,\n",
    "                                    _, _, 'Second to First')\n",
    "# remove _s, and enter correct variable names"
   ]
  },
  {
   "cell_type": "code",
   "execution_count": null,
   "id": "8ebc9214-14e0-4d4e-a195-2d29910c4733",
   "metadata": {},
   "outputs": [],
   "source": [
    "# plot data on 2-d space using same data with upper block\n",
    "\n",
    "fig, ax = plt.subplots()\n",
    "im = ax.imshow(_, interpolation='lanczos', origin='lower', cmap='RdBu_r',\n",
    "               extent=_.times[[0, -1, 0, -1]], vmin=0., vmax=1.)\n",
    "# remove _s, and enter correct variable names\n",
    "ax.set_xlabel('Testing Time (s)')\n",
    "ax.set_ylabel('Training Time (s)')\n",
    "ax.set_title('decoding reseult(E) : Second to First')\n",
    "ax.axvline(0, color='k')\n",
    "ax.axhline(0, color='k')\n",
    "cbar = plt.colorbar(im, ax=ax)\n",
    "cbar.set_label('AUC')"
   ]
  },
  {
   "cell_type": "code",
   "execution_count": null,
   "id": "0f181877-048a-44fa-83c5-0aec05a82e84",
   "metadata": {},
   "outputs": [],
   "source": [
    "e_d_pred_StoC = cross_condition_dec(_, _, _,\n",
    "                                    _, _, 'Second to Cue')\n",
    "# remove _s, and enter correct variable names"
   ]
  },
  {
   "cell_type": "code",
   "execution_count": null,
   "id": "4489fa44-fe18-4cc6-b1b2-1cb6015afde7",
   "metadata": {},
   "outputs": [],
   "source": [
    "# plot data on 2-d space using same data with upper block\n",
    "\n",
    "fig, ax = plt.subplots()\n",
    "im = ax.imshow(_, interpolation='lanczos', origin='lower', cmap='RdBu_r',\n",
    "               extent=_.times[[0, -1, 0, -1]], vmin=0., vmax=1.)\n",
    "# remove _s, and enter correct variable names\n",
    "ax.set_xlabel('Testing Time (s)')\n",
    "ax.set_ylabel('Training Time (s)')\n",
    "ax.set_title('decoding result(E) : Second to Cue')\n",
    "ax.axvline(0, color='k')\n",
    "ax.axhline(0, color='k')\n",
    "cbar = plt.colorbar(im, ax=ax)\n",
    "cbar.set_label('AUC')"
   ]
  },
  {
   "cell_type": "markdown",
   "id": "6921bcd0-755b-47b3-a4d6-066ac188c822",
   "metadata": {},
   "source": [
    "#### trained by cue"
   ]
  },
  {
   "cell_type": "code",
   "execution_count": null,
   "id": "7c69a882-f576-4bc6-8517-0c1dbaead023",
   "metadata": {},
   "outputs": [],
   "source": [
    "e_d_pred_CtoF = cross_condition_dec(_, _, _,\n",
    "                                    _, _, 'Cue to First')\n",
    "# remove _s, and enter correct variable names"
   ]
  },
  {
   "cell_type": "code",
   "execution_count": null,
   "id": "32668dce-aaed-4ec0-b84c-2437f40c3c95",
   "metadata": {},
   "outputs": [],
   "source": [
    "# plot data on 2-d space using same data with upper block\n",
    "\n",
    "fig, ax = plt.subplots()\n",
    "im = ax.imshow(_, interpolation='lanczos', origin='lower', cmap='RdBu_r',\n",
    "               extent=_.times[[0, -1, 0, -1]], vmin=0., vmax=1.)\n",
    "# remove _s, and enter correct variable names\n",
    "ax.set_xlabel('Testing Time (s)')\n",
    "ax.set_ylabel('Training Time (s)')\n",
    "ax.set_title('decoding result(E) : Cue to First')\n",
    "ax.axvline(0, color='k')\n",
    "ax.axhline(0, color='k')\n",
    "cbar = plt.colorbar(im, ax=ax)\n",
    "cbar.set_label('AUC')"
   ]
  },
  {
   "cell_type": "code",
   "execution_count": null,
   "id": "e969394e-7630-44ed-8dbb-6492ff741e99",
   "metadata": {},
   "outputs": [],
   "source": [
    "e_d_pred_CtoS = cross_condition_dec(_, _, _,\n",
    "                                    _, _, 'Cue to Second')\n",
    "# remove _s, and enter correct variable names"
   ]
  },
  {
   "cell_type": "code",
   "execution_count": null,
   "id": "58702cd2-f1af-4712-8f2f-f3892a750f2a",
   "metadata": {},
   "outputs": [],
   "source": [
    "# plot data on 2-d space using same data with upper block\n",
    "\n",
    "fig, ax = plt.subplots()\n",
    "im = ax.imshow(_, interpolation='lanczos', origin='lower', cmap='RdBu_r',\n",
    "               extent=_.times[[0, -1, 0, -1]], vmin=0., vmax=1.)\n",
    "# remove _s, and enter correct variable names\n",
    "ax.set_xlabel('Testing Time (s)')\n",
    "ax.set_ylabel('Training Time (s)')\n",
    "ax.set_title('decoding result(E) : Cue to Second')\n",
    "ax.axvline(0, color='k')\n",
    "ax.axhline(0, color='k')\n",
    "cbar = plt.colorbar(im, ax=ax)\n",
    "cbar.set_label('AUC')"
   ]
  }
 ],
 "metadata": {
  "kernelspec": {
   "display_name": "Python 3 (ipykernel)",
   "language": "python",
   "name": "python3"
  },
  "language_info": {
   "codemirror_mode": {
    "name": "ipython",
    "version": 3
   },
   "file_extension": ".py",
   "mimetype": "text/x-python",
   "name": "python",
   "nbconvert_exporter": "python",
   "pygments_lexer": "ipython3",
   "version": "3.8.13"
  }
 },
 "nbformat": 4,
 "nbformat_minor": 5
}
