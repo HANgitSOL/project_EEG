{
 "cells": [
  {
   "cell_type": "markdown",
   "id": "a2748ebd-15e8-419e-b29f-11d00a0784ba",
   "metadata": {},
   "source": [
    "# import packages"
   ]
  },
  {
   "cell_type": "code",
   "execution_count": null,
   "id": "b02ea96a-a280-42d9-950c-9b4e852b6b37",
   "metadata": {},
   "outputs": [],
   "source": [
    "# setting base\n",
    "\n",
    "import os\n",
    "\n",
    "import warnings, sys, os ## system\n",
    "if not sys.warnoptions:\n",
    "    warnings.simplefilter(\"ignore\") # ignore warnings\n",
    "    \n",
    "import mne\n",
    "\n",
    "import numpy as np\n",
    "import pandas as pd\n",
    "\n",
    "import matplotlib.pyplot as plt\n",
    "\n",
    "from sklearn.pipeline import make_pipeline\n",
    "from sklearn.preprocessing import StandardScaler\n",
    "from sklearn.linear_model import LogisticRegression\n",
    "from sklearn.svm import SVC\n",
    "\n",
    "import scipy.io"
   ]
  },
  {
   "cell_type": "markdown",
   "id": "1eeaa125-ba97-4cd8-924f-e8e3612243ab",
   "metadata": {},
   "source": [
    "# load EEG signal file"
   ]
  },
  {
   "cell_type": "code",
   "execution_count": null,
   "id": "f5fa0f6e-1988-440c-8176-3f11d3028b46",
   "metadata": {},
   "outputs": [],
   "source": [
    "# load file\n",
    "\n",
    "user_path = os.path.expanduser('~')\n",
    "vhdr_path = os.path.join('_','sub-01_decoder-nback.vhdr')\n",
    "# remove _, and enter your data path instead\n",
    "\n",
    "raw = mne.io.read_raw_brainvision(vhdr_path,eog=('HEOG','HEOG1','VEOG'))\n",
    "# data used in this project is collected by 'brainvision'"
   ]
  },
  {
   "cell_type": "code",
   "execution_count": null,
   "id": "1a5c21b3-7c89-4eb4-9611-5cb003e16d26",
   "metadata": {},
   "outputs": [],
   "source": [
    "# apply pass filter\n",
    "\n",
    "raw.load_data().filter(0.5, 40) \n",
    "# import filter (high-pass, low-pass)\n",
    "events = mne.events_from_annotations(raw) \n",
    "# define the trigger\n",
    "\n",
    "event_id = {'object': 101, 'scene': 102}\n",
    "# identify event triggers"
   ]
  },
  {
   "cell_type": "code",
   "execution_count": null,
   "id": "7474b40f-9644-47d0-a67f-61674db5cf34",
   "metadata": {},
   "outputs": [],
   "source": [
    "# re-reference signal\n",
    "\n",
    "raw.plot()\n",
    "raw.set_eeg_reference('average', projection=True)\n",
    "raw.plot()"
   ]
  },
  {
   "cell_type": "code",
   "execution_count": null,
   "id": "8c5e31f4-c44f-4ed2-8a9f-eb788f674554",
   "metadata": {},
   "outputs": [],
   "source": [
    "def load_raw(var_name):\n",
    "    \n",
    "    # read raw file\n",
    "    var_name = mne.io.read_raw_brainvision(vhdr_path,eog=('HEOG','HEOG1','VEOG'),\n",
    "                                           preload=True)\n",
    "    \n",
    "    # set pass-filter\n",
    "    var_name.load_data().filter(0.5, 40) \n",
    "    \n",
    "    # apply re-reference using average signal\n",
    "    var_name.set_eeg_reference('average', projection=True)\n",
    "    \n",
    "    return var_name"
   ]
  },
  {
   "cell_type": "markdown",
   "id": "a134eb9a-267b-4422-bf9b-cdfafd1a204a",
   "metadata": {
    "tags": []
   },
   "source": [
    "# control eye movement signal"
   ]
  },
  {
   "cell_type": "markdown",
   "id": "b44fb60f-ffa3-48b3-b209-33827b93760e",
   "metadata": {
    "tags": []
   },
   "source": [
    "## op1) reject blinked trial"
   ]
  },
  {
   "cell_type": "code",
   "execution_count": null,
   "id": "28ff9478-6d55-4064-9eae-5906251071f0",
   "metadata": {},
   "outputs": [],
   "source": [
    "# use pure raw data\n",
    "\n",
    "load_raw(REJ_raw)"
   ]
  },
  {
   "cell_type": "code",
   "execution_count": null,
   "id": "18787f8a-667b-428d-b465-5558e5552ca6",
   "metadata": {},
   "outputs": [],
   "source": [
    "# find eye blink\n",
    "\n",
    "eog_events = mne.preprocessing.find_eog_events(REJ_raw) \n",
    "# find blink signal\n",
    "onsets = eog_events[:, 0] / REJ_raw.info['sfreq'] - 0.25\n",
    "durations = [0.5] * len(eog_events)\n",
    "descriptions = ['bad blink'] * len(eog_events)\n",
    "blink_annot = mne.Annotations(onsets, durations, descriptions,\n",
    "                              orig_time=REJ_raw.info['meas_date'])\n",
    "REJ_raw.set_annotations(blink_annot)"
   ]
  },
  {
   "cell_type": "code",
   "execution_count": null,
   "id": "9d35dba4-d95c-4b6b-9116-9a650893c55a",
   "metadata": {},
   "outputs": [],
   "source": [
    "# pick blink and plot\n",
    "\n",
    "eeg_picks = mne.pick_types(REJ_raw.info, eeg=True)\n",
    "REJ_raw.plot(events=eog_events, order=eeg_picks)"
   ]
  },
  {
   "cell_type": "markdown",
   "id": "707696e7-931a-47f4-a669-c8269a732990",
   "metadata": {
    "tags": []
   },
   "source": [
    "## op2) ICA projection"
   ]
  },
  {
   "cell_type": "code",
   "execution_count": null,
   "id": "37194dd2-c0b4-4891-a1a5-b0c6f2c848b5",
   "metadata": {},
   "outputs": [],
   "source": [
    "# use pure raw data\n",
    "\n",
    "load_raw(ICA_raw)"
   ]
  },
  {
   "cell_type": "code",
   "execution_count": null,
   "id": "671dbef0-2812-463b-828a-f3b902a3bf32",
   "metadata": {},
   "outputs": [],
   "source": [
    "# summize noise from EOG\n",
    "\n",
    "eog_evoked = create_eog_epochs(ICA_raw).average()\n",
    "eog_evoked.apply_baseline(baseline=(None, -0.2))"
   ]
  },
  {
   "cell_type": "code",
   "execution_count": null,
   "id": "c8ba6766-ff42-4c77-8988-c5168c329d7e",
   "metadata": {},
   "outputs": [],
   "source": [
    "ica = ICA(n_components=15, max_iter='auto', random_state=97)\n",
    "# use first 15 PCs in ICA\n",
    "ica.fit(ICA_raw)"
   ]
  },
  {
   "cell_type": "code",
   "execution_count": null,
   "id": "24fc0604-b17d-4f9b-b230-81e4169cd96d",
   "metadata": {},
   "outputs": [],
   "source": [
    "# use EOG channel\n",
    "\n",
    "eog_indices, eog_scores = ica.find_bads_eog(ICA_raw)\n",
    "# find which ICs match the EOG pattern\n",
    "ica.exclude = eog_indices\n",
    "\n",
    "# barplot of ICA component \"EOG match\" scores\n",
    "ica.plot_scores(eog_scores)\n",
    "\n",
    "# plot ICs applied to raw data, with EOG matches highlighted\n",
    "ica.plot_sources(ICA_raw, show_scrollbars=False)\n",
    "\n",
    "# plot ICs applied to the averaged EOG epochs, with EOG matches highlighted\n",
    "ica.plot_sources(eog_evoked)"
   ]
  },
  {
   "cell_type": "code",
   "execution_count": null,
   "id": "1cbea2aa-398a-4d97-a113-9d03f3d32912",
   "metadata": {},
   "outputs": [],
   "source": [
    "ica.exclude = [0]\n",
    "# indices chosen based on various plots above"
   ]
  },
  {
   "cell_type": "code",
   "execution_count": null,
   "id": "2334cb05-34a4-49f9-9b2f-6ac74e614d3f",
   "metadata": {},
   "outputs": [],
   "source": [
    "# apply ICA exclusion\n",
    "\n",
    "# ica.apply() changes the Raw object in-place\n",
    "ica.apply(ICA_raw)\n",
    "ICA_raw.plot()"
   ]
  },
  {
   "cell_type": "markdown",
   "id": "88e5a16b-bb00-4450-9608-fc76ba3b0610",
   "metadata": {
    "tags": []
   },
   "source": [
    "## op3) SSP projection"
   ]
  },
  {
   "cell_type": "code",
   "execution_count": null,
   "id": "f10cb17a-254c-4e07-840d-56d61f65fee7",
   "metadata": {},
   "outputs": [],
   "source": [
    "# use pure raw data\n",
    "\n",
    "load_raw(SSP_raw)"
   ]
  },
  {
   "cell_type": "code",
   "execution_count": null,
   "id": "377b8148-1a77-42be-8914-fad1b647f24a",
   "metadata": {},
   "outputs": [],
   "source": [
    "# make SSP projector\n",
    "\n",
    "blink_proj = mne.preprocessing.compute_proj_eog(SSP_raw, tmax=1.5, n_grad=0, n_mag=0,\n",
    "                                                ch_name=['HEOG','HEOG1','VEOG'])"
   ]
  },
  {
   "cell_type": "code",
   "execution_count": null,
   "id": "7d5ae3aa-96ea-4592-928f-4fa4942447a9",
   "metadata": {},
   "outputs": [],
   "source": [
    "# add made SSP projector\n",
    "\n",
    "SSP_raw.add_proj(blink_proj[1])"
   ]
  },
  {
   "cell_type": "markdown",
   "id": "cf0e35bd-8736-4b9f-a4aa-0ee38861b6dd",
   "metadata": {},
   "source": [
    "# epoching signal"
   ]
  },
  {
   "cell_type": "code",
   "execution_count": null,
   "id": "d6f09368-ccef-413a-b487-baeffd9f878b",
   "metadata": {},
   "outputs": [],
   "source": [
    "# Read epochs\n",
    "\n",
    "tmin, tmax = -0.200, 1.500 # cut time-course\n",
    "epochs = mne.Epochs(_, events[0], event_id, tmin, tmax, _,\n",
    "                    picks='eeg', baseline=(-0.2, 0.0), preload=True,\n",
    "                    reject=None, decim=3, verbose='error')\n",
    "# remove first _, and enter variable name\n",
    "# remove second _, and enter proj=True if you determined to use SSP"
   ]
  },
  {
   "cell_type": "markdown",
   "id": "0c3c9106-3cba-48f6-8040-ef7f98defa20",
   "metadata": {},
   "source": [
    "# decoding signal"
   ]
  },
  {
   "cell_type": "code",
   "execution_count": null,
   "id": "de205806-aa08-49bd-96d8-8fdd42679522",
   "metadata": {},
   "outputs": [],
   "source": [
    "# save data in variable\n",
    "\n",
    "X = epochs.get_data()  \n",
    "# n_epochs, n_eeg_channels, n_times\n",
    "y = epochs.events[:, 2]  \n",
    "# target event"
   ]
  },
  {
   "cell_type": "code",
   "execution_count": null,
   "id": "a24297b5-1b68-40ab-85d9-478491efdb31",
   "metadata": {},
   "outputs": [],
   "source": [
    "# evaluate score using cross-validation : regression model\n",
    "\n",
    "lin_pipe = make_pipeline(Scaler(train_epochs.info), \n",
    "                         Vectorizer(), LogisticRegression(solver='liblinear'))\n",
    "\n",
    "lin_scores = cross_val_multiscore(lin_pipe, X, y, cv=5, n_jobs=None)\n",
    "# cross-validation\n",
    "\n",
    "lin_score = np.mean(lin_scores, axis=0)\n",
    "# Mean scores across cross-validation splits\n",
    "# mean cross-validation score from each split\n",
    "#  -> scores == 1 * len(cv) array\n",
    "\n",
    "print(lin_score)"
   ]
  },
  {
   "cell_type": "code",
   "execution_count": null,
   "id": "3961c589-3203-4283-9d27-8ec0ced25249",
   "metadata": {},
   "outputs": [],
   "source": [
    "# evaluate score using cross-validation : support vector machine\n",
    "\n",
    "svm_pipe = make_pipeline(Scaler(train_epochs.info), Vectorizer(), \n",
    "                         SVC(decision_function_shape='ovo'))\n",
    "\n",
    "svm_scores = cross_val_multiscore(svm_pipe, X, y, cv=5, n_jobs=None)\n",
    "# cross-validation\n",
    "\n",
    "svm_score = np.mean(svm_scores, axis=0)\n",
    "# Mean scores across cross-validation splits\n",
    "# mean cross-validation score from each split\n",
    "#  -> scores == 1 * len(cv) array\n",
    "\n",
    "print(svm_score)"
   ]
  }
 ],
 "metadata": {
  "kernelspec": {
   "display_name": "Python 3 (ipykernel)",
   "language": "python",
   "name": "python3"
  },
  "language_info": {
   "codemirror_mode": {
    "name": "ipython",
    "version": 3
   },
   "file_extension": ".py",
   "mimetype": "text/x-python",
   "name": "python",
   "nbconvert_exporter": "python",
   "pygments_lexer": "ipython3",
   "version": "3.8.13"
  }
 },
 "nbformat": 4,
 "nbformat_minor": 5
}
